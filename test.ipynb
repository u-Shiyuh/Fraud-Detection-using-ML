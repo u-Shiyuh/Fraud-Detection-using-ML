{
 "cells": [
  {
   "cell_type": "code",
   "execution_count": 31,
   "id": "27b2572a",
   "metadata": {},
   "outputs": [],
   "source": [
    "import pandas as pd\n",
    "from sklearn import metrics \n",
    "from sklearn.preprocessing import MinMaxScaler\n",
    "from sklearn.preprocessing import StandardScaler\n",
    "import pickle"
   ]
  },
  {
   "cell_type": "code",
   "execution_count": 32,
   "id": "6fe7686c",
   "metadata": {},
   "outputs": [],
   "source": [
    "df = pd.read_csv('transactions_train.csv')"
   ]
  },
  {
   "cell_type": "code",
   "execution_count": 33,
   "id": "2c42a1f1",
   "metadata": {},
   "outputs": [
    {
     "data": {
      "text/plain": [
       "step              6343476\n",
       "type              6343476\n",
       "amount            6343476\n",
       "nameOrig          6343476\n",
       "oldbalanceOrig    6343476\n",
       "newbalanceOrig    6343476\n",
       "nameDest          6343476\n",
       "oldbalanceDest    6343476\n",
       "newbalanceDest    6343476\n",
       "isFraud           6343476\n",
       "dtype: int64"
      ]
     },
     "execution_count": 33,
     "metadata": {},
     "output_type": "execute_result"
    }
   ],
   "source": [
    "df[df['isFraud']==0].count()"
   ]
  },
  {
   "cell_type": "code",
   "execution_count": 34,
   "id": "6d0bb012",
   "metadata": {},
   "outputs": [],
   "source": [
    "df = df.drop(['nameOrig','nameDest'], axis =1)"
   ]
  },
  {
   "cell_type": "code",
   "execution_count": 35,
   "id": "3b200bc0",
   "metadata": {},
   "outputs": [
    {
     "data": {
      "text/html": [
       "<div>\n",
       "<style scoped>\n",
       "    .dataframe tbody tr th:only-of-type {\n",
       "        vertical-align: middle;\n",
       "    }\n",
       "\n",
       "    .dataframe tbody tr th {\n",
       "        vertical-align: top;\n",
       "    }\n",
       "\n",
       "    .dataframe thead th {\n",
       "        text-align: right;\n",
       "    }\n",
       "</style>\n",
       "<table border=\"1\" class=\"dataframe\">\n",
       "  <thead>\n",
       "    <tr style=\"text-align: right;\">\n",
       "      <th></th>\n",
       "      <th>step</th>\n",
       "      <th>amount</th>\n",
       "      <th>oldbalanceOrig</th>\n",
       "      <th>newbalanceOrig</th>\n",
       "      <th>oldbalanceDest</th>\n",
       "      <th>newbalanceDest</th>\n",
       "      <th>isFraud</th>\n",
       "    </tr>\n",
       "  </thead>\n",
       "  <tbody>\n",
       "    <tr>\n",
       "      <th>2</th>\n",
       "      <td>1</td>\n",
       "      <td>181.00</td>\n",
       "      <td>181.00</td>\n",
       "      <td>0.0</td>\n",
       "      <td>0.00</td>\n",
       "      <td>0.00</td>\n",
       "      <td>1</td>\n",
       "    </tr>\n",
       "    <tr>\n",
       "      <th>3</th>\n",
       "      <td>1</td>\n",
       "      <td>181.00</td>\n",
       "      <td>181.00</td>\n",
       "      <td>0.0</td>\n",
       "      <td>21182.00</td>\n",
       "      <td>0.00</td>\n",
       "      <td>1</td>\n",
       "    </tr>\n",
       "    <tr>\n",
       "      <th>15</th>\n",
       "      <td>1</td>\n",
       "      <td>229133.94</td>\n",
       "      <td>15325.00</td>\n",
       "      <td>0.0</td>\n",
       "      <td>5083.00</td>\n",
       "      <td>51513.44</td>\n",
       "      <td>0</td>\n",
       "    </tr>\n",
       "    <tr>\n",
       "      <th>19</th>\n",
       "      <td>1</td>\n",
       "      <td>215310.30</td>\n",
       "      <td>705.00</td>\n",
       "      <td>0.0</td>\n",
       "      <td>22425.00</td>\n",
       "      <td>0.00</td>\n",
       "      <td>0</td>\n",
       "    </tr>\n",
       "    <tr>\n",
       "      <th>24</th>\n",
       "      <td>1</td>\n",
       "      <td>311685.89</td>\n",
       "      <td>10835.00</td>\n",
       "      <td>0.0</td>\n",
       "      <td>6267.00</td>\n",
       "      <td>2719172.89</td>\n",
       "      <td>0</td>\n",
       "    </tr>\n",
       "    <tr>\n",
       "      <th>...</th>\n",
       "      <td>...</td>\n",
       "      <td>...</td>\n",
       "      <td>...</td>\n",
       "      <td>...</td>\n",
       "      <td>...</td>\n",
       "      <td>...</td>\n",
       "      <td>...</td>\n",
       "    </tr>\n",
       "    <tr>\n",
       "      <th>6351186</th>\n",
       "      <td>699</td>\n",
       "      <td>62372.43</td>\n",
       "      <td>62372.43</td>\n",
       "      <td>0.0</td>\n",
       "      <td>1195387.47</td>\n",
       "      <td>1257759.90</td>\n",
       "      <td>1</td>\n",
       "    </tr>\n",
       "    <tr>\n",
       "      <th>6351188</th>\n",
       "      <td>699</td>\n",
       "      <td>162326.52</td>\n",
       "      <td>162326.52</td>\n",
       "      <td>0.0</td>\n",
       "      <td>0.00</td>\n",
       "      <td>0.00</td>\n",
       "      <td>1</td>\n",
       "    </tr>\n",
       "    <tr>\n",
       "      <th>6351189</th>\n",
       "      <td>699</td>\n",
       "      <td>162326.52</td>\n",
       "      <td>162326.52</td>\n",
       "      <td>0.0</td>\n",
       "      <td>0.00</td>\n",
       "      <td>162326.52</td>\n",
       "      <td>1</td>\n",
       "    </tr>\n",
       "    <tr>\n",
       "      <th>6351190</th>\n",
       "      <td>699</td>\n",
       "      <td>2763398.31</td>\n",
       "      <td>2763398.31</td>\n",
       "      <td>0.0</td>\n",
       "      <td>0.00</td>\n",
       "      <td>0.00</td>\n",
       "      <td>1</td>\n",
       "    </tr>\n",
       "    <tr>\n",
       "      <th>6351191</th>\n",
       "      <td>699</td>\n",
       "      <td>2763398.31</td>\n",
       "      <td>2763398.31</td>\n",
       "      <td>0.0</td>\n",
       "      <td>339515.35</td>\n",
       "      <td>3102913.66</td>\n",
       "      <td>1</td>\n",
       "    </tr>\n",
       "  </tbody>\n",
       "</table>\n",
       "<p>2765186 rows × 7 columns</p>\n",
       "</div>"
      ],
      "text/plain": [
       "         step      amount  oldbalanceOrig  newbalanceOrig  oldbalanceDest  \\\n",
       "2           1      181.00          181.00             0.0            0.00   \n",
       "3           1      181.00          181.00             0.0        21182.00   \n",
       "15          1   229133.94        15325.00             0.0         5083.00   \n",
       "19          1   215310.30          705.00             0.0        22425.00   \n",
       "24          1   311685.89        10835.00             0.0         6267.00   \n",
       "...       ...         ...             ...             ...             ...   \n",
       "6351186   699    62372.43        62372.43             0.0      1195387.47   \n",
       "6351188   699   162326.52       162326.52             0.0            0.00   \n",
       "6351189   699   162326.52       162326.52             0.0            0.00   \n",
       "6351190   699  2763398.31      2763398.31             0.0            0.00   \n",
       "6351191   699  2763398.31      2763398.31             0.0       339515.35   \n",
       "\n",
       "         newbalanceDest  isFraud  \n",
       "2                  0.00        1  \n",
       "3                  0.00        1  \n",
       "15             51513.44        0  \n",
       "19                 0.00        0  \n",
       "24           2719172.89        0  \n",
       "...                 ...      ...  \n",
       "6351186      1257759.90        1  \n",
       "6351188            0.00        1  \n",
       "6351189       162326.52        1  \n",
       "6351190            0.00        1  \n",
       "6351191      3102913.66        1  \n",
       "\n",
       "[2765186 rows x 7 columns]"
      ]
     },
     "execution_count": 35,
     "metadata": {},
     "output_type": "execute_result"
    }
   ],
   "source": [
    "df = pd.get_dummies(df)\n",
    "df = df[(df[\"type_CASH_OUT\"]==1) | (df[\"type_TRANSFER\"]==1)]\n",
    "df = df.drop(['type_CASH_IN','type_CASH_OUT','type_DEBIT','type_PAYMENT','type_TRANSFER'], axis =1)\n",
    "df"
   ]
  },
  {
   "cell_type": "code",
   "execution_count": 36,
   "id": "af7e3487",
   "metadata": {},
   "outputs": [
    {
     "data": {
      "text/html": [
       "<div>\n",
       "<style scoped>\n",
       "    .dataframe tbody tr th:only-of-type {\n",
       "        vertical-align: middle;\n",
       "    }\n",
       "\n",
       "    .dataframe tbody tr th {\n",
       "        vertical-align: top;\n",
       "    }\n",
       "\n",
       "    .dataframe thead th {\n",
       "        text-align: right;\n",
       "    }\n",
       "</style>\n",
       "<table border=\"1\" class=\"dataframe\">\n",
       "  <thead>\n",
       "    <tr style=\"text-align: right;\">\n",
       "      <th></th>\n",
       "      <th>step</th>\n",
       "      <th>amount</th>\n",
       "      <th>newbalanceOrig</th>\n",
       "      <th>newbalanceDest</th>\n",
       "      <th>isFraud</th>\n",
       "      <th>originError</th>\n",
       "      <th>destError</th>\n",
       "    </tr>\n",
       "  </thead>\n",
       "  <tbody>\n",
       "    <tr>\n",
       "      <th>2</th>\n",
       "      <td>1</td>\n",
       "      <td>181.00</td>\n",
       "      <td>0.0</td>\n",
       "      <td>0.00</td>\n",
       "      <td>1</td>\n",
       "      <td>0.00</td>\n",
       "      <td>-181.00</td>\n",
       "    </tr>\n",
       "    <tr>\n",
       "      <th>3</th>\n",
       "      <td>1</td>\n",
       "      <td>181.00</td>\n",
       "      <td>0.0</td>\n",
       "      <td>0.00</td>\n",
       "      <td>1</td>\n",
       "      <td>0.00</td>\n",
       "      <td>21001.00</td>\n",
       "    </tr>\n",
       "    <tr>\n",
       "      <th>15</th>\n",
       "      <td>1</td>\n",
       "      <td>229133.94</td>\n",
       "      <td>0.0</td>\n",
       "      <td>51513.44</td>\n",
       "      <td>0</td>\n",
       "      <td>-213808.94</td>\n",
       "      <td>-275564.38</td>\n",
       "    </tr>\n",
       "    <tr>\n",
       "      <th>19</th>\n",
       "      <td>1</td>\n",
       "      <td>215310.30</td>\n",
       "      <td>0.0</td>\n",
       "      <td>0.00</td>\n",
       "      <td>0</td>\n",
       "      <td>-214605.30</td>\n",
       "      <td>-192885.30</td>\n",
       "    </tr>\n",
       "    <tr>\n",
       "      <th>24</th>\n",
       "      <td>1</td>\n",
       "      <td>311685.89</td>\n",
       "      <td>0.0</td>\n",
       "      <td>2719172.89</td>\n",
       "      <td>0</td>\n",
       "      <td>-300850.89</td>\n",
       "      <td>-3024591.78</td>\n",
       "    </tr>\n",
       "    <tr>\n",
       "      <th>...</th>\n",
       "      <td>...</td>\n",
       "      <td>...</td>\n",
       "      <td>...</td>\n",
       "      <td>...</td>\n",
       "      <td>...</td>\n",
       "      <td>...</td>\n",
       "      <td>...</td>\n",
       "    </tr>\n",
       "    <tr>\n",
       "      <th>6351186</th>\n",
       "      <td>699</td>\n",
       "      <td>62372.43</td>\n",
       "      <td>0.0</td>\n",
       "      <td>1257759.90</td>\n",
       "      <td>1</td>\n",
       "      <td>0.00</td>\n",
       "      <td>-124744.86</td>\n",
       "    </tr>\n",
       "    <tr>\n",
       "      <th>6351188</th>\n",
       "      <td>699</td>\n",
       "      <td>162326.52</td>\n",
       "      <td>0.0</td>\n",
       "      <td>0.00</td>\n",
       "      <td>1</td>\n",
       "      <td>0.00</td>\n",
       "      <td>-162326.52</td>\n",
       "    </tr>\n",
       "    <tr>\n",
       "      <th>6351189</th>\n",
       "      <td>699</td>\n",
       "      <td>162326.52</td>\n",
       "      <td>0.0</td>\n",
       "      <td>162326.52</td>\n",
       "      <td>1</td>\n",
       "      <td>0.00</td>\n",
       "      <td>-324653.04</td>\n",
       "    </tr>\n",
       "    <tr>\n",
       "      <th>6351190</th>\n",
       "      <td>699</td>\n",
       "      <td>2763398.31</td>\n",
       "      <td>0.0</td>\n",
       "      <td>0.00</td>\n",
       "      <td>1</td>\n",
       "      <td>0.00</td>\n",
       "      <td>-2763398.31</td>\n",
       "    </tr>\n",
       "    <tr>\n",
       "      <th>6351191</th>\n",
       "      <td>699</td>\n",
       "      <td>2763398.31</td>\n",
       "      <td>0.0</td>\n",
       "      <td>3102913.66</td>\n",
       "      <td>1</td>\n",
       "      <td>0.00</td>\n",
       "      <td>-5526796.62</td>\n",
       "    </tr>\n",
       "  </tbody>\n",
       "</table>\n",
       "<p>2765186 rows × 7 columns</p>\n",
       "</div>"
      ],
      "text/plain": [
       "         step      amount  newbalanceOrig  newbalanceDest  isFraud  \\\n",
       "2           1      181.00             0.0            0.00        1   \n",
       "3           1      181.00             0.0            0.00        1   \n",
       "15          1   229133.94             0.0        51513.44        0   \n",
       "19          1   215310.30             0.0            0.00        0   \n",
       "24          1   311685.89             0.0      2719172.89        0   \n",
       "...       ...         ...             ...             ...      ...   \n",
       "6351186   699    62372.43             0.0      1257759.90        1   \n",
       "6351188   699   162326.52             0.0            0.00        1   \n",
       "6351189   699   162326.52             0.0       162326.52        1   \n",
       "6351190   699  2763398.31             0.0            0.00        1   \n",
       "6351191   699  2763398.31             0.0      3102913.66        1   \n",
       "\n",
       "         originError   destError  \n",
       "2               0.00     -181.00  \n",
       "3               0.00    21001.00  \n",
       "15        -213808.94  -275564.38  \n",
       "19        -214605.30  -192885.30  \n",
       "24        -300850.89 -3024591.78  \n",
       "...              ...         ...  \n",
       "6351186         0.00  -124744.86  \n",
       "6351188         0.00  -162326.52  \n",
       "6351189         0.00  -324653.04  \n",
       "6351190         0.00 -2763398.31  \n",
       "6351191         0.00 -5526796.62  \n",
       "\n",
       "[2765186 rows x 7 columns]"
      ]
     },
     "execution_count": 36,
     "metadata": {},
     "output_type": "execute_result"
    }
   ],
   "source": [
    "df['originError'] = df['oldbalanceOrig']-(df['amount']+df['newbalanceOrig'])\n",
    "df['destError'] = df['oldbalanceDest']-(df['newbalanceDest']+df['amount'])\n",
    "df = df.drop(['oldbalanceDest','oldbalanceOrig'], axis = 1)\n",
    "df"
   ]
  },
  {
   "cell_type": "code",
   "execution_count": 37,
   "id": "964d526a",
   "metadata": {},
   "outputs": [
    {
     "name": "stdout",
     "output_type": "stream",
     "text": [
      "Total of NA values \n",
      "\n",
      "step              0\n",
      "amount            0\n",
      "newbalanceOrig    0\n",
      "newbalanceDest    0\n",
      "isFraud           0\n",
      "originError       0\n",
      "destError         0\n",
      "dtype: int64\n",
      "\n",
      " Total of NA values \n",
      "\n",
      "step              0\n",
      "amount            0\n",
      "newbalanceOrig    0\n",
      "newbalanceDest    0\n",
      "isFraud           0\n",
      "originError       0\n",
      "destError         0\n",
      "dtype: int64\n"
     ]
    }
   ],
   "source": [
    "#checking for NA values and null\n",
    "print('Total of NA values \\n')\n",
    "print(df.isna().sum())\n",
    "print('\\n Total of NA values \\n')\n",
    "print(df.isnull().sum())"
   ]
  },
  {
   "cell_type": "code",
   "execution_count": 38,
   "id": "65697bac",
   "metadata": {},
   "outputs": [],
   "source": [
    "\n",
    "\n",
    "\n",
    "y = df.isFraud\n",
    "df = df.drop('isFraud', axis =1)\n"
   ]
  },
  {
   "cell_type": "code",
   "execution_count": 42,
   "id": "04395d18",
   "metadata": {},
   "outputs": [
    {
     "data": {
      "text/plain": [
       "array([[-1.71182515, -0.35748584, -0.11431975, -0.43839253,  0.32670344,\n",
       "         0.33174564],\n",
       "       [-1.71182515, -0.35748584, -0.11431975, -0.43839253,  0.32670344,\n",
       "         0.34233534],\n",
       "       [-1.71182515, -0.09950687, -0.11431975, -0.42737977,  0.08264075,\n",
       "         0.19407079],\n",
       "       ...,\n",
       "       [ 3.26422929, -0.17478395, -0.11431975, -0.40368969,  0.32670344,\n",
       "         0.16952946],\n",
       "       [ 3.26422929,  2.75604462, -0.11431975, -0.43839253,  0.32670344,\n",
       "        -1.04969401],\n",
       "       [ 3.26422929,  2.75604462, -0.11431975,  0.22496134,  0.32670344,\n",
       "        -2.43122414]])"
      ]
     },
     "execution_count": 42,
     "metadata": {},
     "output_type": "execute_result"
    }
   ],
   "source": [
    "#df = scaler.fit_transform(df)\n",
    "#scaler = MinMaxScaler()\n",
    "scaler = StandardScaler()\n",
    "scaler.fit(df)\n",
    "df = scaler.transform(df)\n",
    "df"
   ]
  },
  {
   "cell_type": "code",
   "execution_count": 40,
   "id": "71aaec41",
   "metadata": {},
   "outputs": [],
   "source": [
    "import pickle\n",
    "pickle.dump(scaler, open('scaler.pkl','wb'))"
   ]
  },
  {
   "cell_type": "code",
   "execution_count": null,
   "id": "cad38dde",
   "metadata": {},
   "outputs": [],
   "source": [
    "sc = pickle.load(open('file/path/scaler.pkl','rb'))"
   ]
  },
  {
   "cell_type": "code",
   "execution_count": 9,
   "id": "2494fe9b",
   "metadata": {},
   "outputs": [],
   "source": [
    "from sklearn.model_selection import train_test_split\n",
    "X_train, X_test, y_train, y_test = train_test_split(df, y)"
   ]
  },
  {
   "cell_type": "code",
   "execution_count": null,
   "id": "750d8f21",
   "metadata": {},
   "outputs": [],
   "source": [
    "from imblearn.over_sampling import RandomOverSampler\n",
    "ros = RandomOverSampler(random_state  = 0)\n",
    "X_train_resampled, y_train_resampled = ros.fit_resample(X_train, y_train)"
   ]
  },
  {
   "cell_type": "code",
   "execution_count": 10,
   "id": "2f9830f3",
   "metadata": {},
   "outputs": [],
   "source": [
    "from sklearn.linear_model import LogisticRegression \n",
    "model = LogisticRegression(solver='liblinear', max_iter = 500)"
   ]
  },
  {
   "cell_type": "code",
   "execution_count": 11,
   "id": "26a2807f",
   "metadata": {
    "scrolled": true
   },
   "outputs": [
    {
     "data": {
      "text/plain": [
       "LogisticRegression(max_iter=500, solver='liblinear')"
      ]
     },
     "execution_count": 11,
     "metadata": {},
     "output_type": "execute_result"
    }
   ],
   "source": [
    "model.fit(X_train, y_train)"
   ]
  },
  {
   "cell_type": "code",
   "execution_count": 12,
   "id": "e1362730",
   "metadata": {},
   "outputs": [],
   "source": [
    "pred = model.predict(X_test)"
   ]
  },
  {
   "cell_type": "code",
   "execution_count": 13,
   "id": "8513b897",
   "metadata": {},
   "outputs": [
    {
     "name": "stdout",
     "output_type": "stream",
     "text": [
      "accuracy 0.9984073415623097\n",
      "precision 0.910880829015544\n",
      "f1 score 0.614900314795383\n",
      "recall 0.4640971488912355\n",
      "              precision    recall  f1-score   support\n",
      "\n",
      "           0       1.00      1.00      1.00    689403\n",
      "           1       0.91      0.46      0.61      1894\n",
      "\n",
      "    accuracy                           1.00    691297\n",
      "   macro avg       0.95      0.73      0.81    691297\n",
      "weighted avg       1.00      1.00      1.00    691297\n",
      "\n"
     ]
    }
   ],
   "source": [
    "print(\"accuracy\",metrics.accuracy_score(y_test,y_pred=pred))\n",
    "print(\"precision\",metrics.precision_score(y_test,y_pred = pred))\n",
    "print(\"f1 score\",metrics.f1_score(y_test,y_pred = pred))\n",
    "print(\"recall\",metrics.recall_score(y_test, y_pred = pred))\n",
    "print(metrics.classification_report(y_test, y_pred = pred))"
   ]
  },
  {
   "cell_type": "code",
   "execution_count": null,
   "id": "b1858436",
   "metadata": {},
   "outputs": [],
   "source": [
    "from sklearn.svm import SVC\n",
    "svc = SVC()\n",
    "svc.fit(X_train, y_train)"
   ]
  },
  {
   "cell_type": "code",
   "execution_count": null,
   "id": "1ef26595",
   "metadata": {},
   "outputs": [],
   "source": [
    "pred = svc.predict(X_test)"
   ]
  },
  {
   "cell_type": "code",
   "execution_count": null,
   "id": "9297aacf",
   "metadata": {},
   "outputs": [],
   "source": [
    "print(\"accuracy\",metrics.accuracy_score(y_test,y_pred=pred))\n",
    "print(\"precision\",metrics.precision_score(y_test,y_pred = pred))\n",
    "print(\"f1 score\",metrics.f1_score(y_test,y_pred = pred))\n",
    "print(\"recall\",metrics.recall_score(y_test, y_pred = pred))\n",
    "print(metrics.classification_report(y_test, y_pred = pred))"
   ]
  },
  {
   "cell_type": "code",
   "execution_count": 14,
   "id": "dc48eeb8",
   "metadata": {},
   "outputs": [],
   "source": [
    "from sklearn.ensemble import RandomForestClassifier\n",
    "model = RandomForestClassifier(n_estimators = 200)"
   ]
  },
  {
   "cell_type": "code",
   "execution_count": 15,
   "id": "5b1aaaf5",
   "metadata": {},
   "outputs": [
    {
     "data": {
      "text/plain": [
       "RandomForestClassifier(n_estimators=200)"
      ]
     },
     "execution_count": 15,
     "metadata": {},
     "output_type": "execute_result"
    }
   ],
   "source": [
    "model.fit(X_train, y_train)"
   ]
  },
  {
   "cell_type": "code",
   "execution_count": 16,
   "id": "a6c588bc",
   "metadata": {},
   "outputs": [],
   "source": [
    "pred = model.predict(X_test)"
   ]
  },
  {
   "cell_type": "code",
   "execution_count": 17,
   "id": "9cb446a3",
   "metadata": {},
   "outputs": [
    {
     "name": "stdout",
     "output_type": "stream",
     "text": [
      "accuracy 0.9999840878811856\n",
      "precision 0.9994694960212201\n",
      "f1 score 0.9970891770309606\n",
      "recall 0.9947201689545935\n",
      "              precision    recall  f1-score   support\n",
      "\n",
      "           0       1.00      1.00      1.00    689403\n",
      "           1       1.00      0.99      1.00      1894\n",
      "\n",
      "    accuracy                           1.00    691297\n",
      "   macro avg       1.00      1.00      1.00    691297\n",
      "weighted avg       1.00      1.00      1.00    691297\n",
      "\n"
     ]
    }
   ],
   "source": [
    "print(\"accuracy\",metrics.accuracy_score(y_test,y_pred=pred))\n",
    "print(\"precision\",metrics.precision_score(y_test,y_pred = pred))\n",
    "print(\"f1 score\",metrics.f1_score(y_test,y_pred = pred))\n",
    "print(\"recall\",metrics.recall_score(y_test, y_pred = pred))\n",
    "print(metrics.classification_report(y_test, y_pred = pred))"
   ]
  },
  {
   "cell_type": "code",
   "execution_count": 18,
   "id": "6d38275e",
   "metadata": {},
   "outputs": [],
   "source": [
    "# save the model to disk\n",
    "filename = 'decision_tree.sav'\n",
    "pickle.dump(model, open(filename, 'wb'))\n",
    " \n"
   ]
  },
  {
   "cell_type": "code",
   "execution_count": 20,
   "id": "c7014321",
   "metadata": {},
   "outputs": [
    {
     "name": "stdout",
     "output_type": "stream",
     "text": [
      "0.9999840878811856\n"
     ]
    }
   ],
   "source": [
    "# some time later...\n",
    " \n",
    "# load the model from disk\n",
    "loaded_model = pickle.load(open(filename, 'rb'))\n",
    "result = loaded_model.score(X_test, y_test)\n",
    "print(result)"
   ]
  },
  {
   "cell_type": "code",
   "execution_count": 23,
   "id": "a77887d6",
   "metadata": {},
   "outputs": [
    {
     "data": {
      "text/plain": [
       "array([[-1.71182515, -0.35748584, -0.11431975, -0.43839253,  0.32670344,\n",
       "         0.33174564],\n",
       "       [-1.71182515, -0.35748584, -0.11431975, -0.43839253,  0.32670344,\n",
       "         0.34233534],\n",
       "       [-1.71182515, -0.09950687, -0.11431975, -0.42737977,  0.08264075,\n",
       "         0.19407079],\n",
       "       ...,\n",
       "       [ 3.26422929, -0.17478395, -0.11431975, -0.40368969,  0.32670344,\n",
       "         0.16952946],\n",
       "       [ 3.26422929,  2.75604462, -0.11431975, -0.43839253,  0.32670344,\n",
       "        -1.04969401],\n",
       "       [ 3.26422929,  2.75604462, -0.11431975,  0.22496134,  0.32670344,\n",
       "        -2.43122414]])"
      ]
     },
     "execution_count": 23,
     "metadata": {},
     "output_type": "execute_result"
    }
   ],
   "source": []
  },
  {
   "cell_type": "code",
   "execution_count": 31,
   "id": "7fae0231",
   "metadata": {},
   "outputs": [
    {
     "data": {
      "text/html": [
       "<div>\n",
       "<style scoped>\n",
       "    .dataframe tbody tr th:only-of-type {\n",
       "        vertical-align: middle;\n",
       "    }\n",
       "\n",
       "    .dataframe tbody tr th {\n",
       "        vertical-align: top;\n",
       "    }\n",
       "\n",
       "    .dataframe thead th {\n",
       "        text-align: right;\n",
       "    }\n",
       "</style>\n",
       "<table border=\"1\" class=\"dataframe\">\n",
       "  <thead>\n",
       "    <tr style=\"text-align: right;\">\n",
       "      <th></th>\n",
       "      <th>step</th>\n",
       "      <th>amount</th>\n",
       "      <th>newbalanceOrig</th>\n",
       "      <th>newbalanceDest</th>\n",
       "      <th>isFraud</th>\n",
       "      <th>originError</th>\n",
       "      <th>destError</th>\n",
       "    </tr>\n",
       "  </thead>\n",
       "  <tbody>\n",
       "    <tr>\n",
       "      <th>2</th>\n",
       "      <td>1</td>\n",
       "      <td>181.00</td>\n",
       "      <td>0.0</td>\n",
       "      <td>0.00</td>\n",
       "      <td>1</td>\n",
       "      <td>0.00</td>\n",
       "      <td>-181.00</td>\n",
       "    </tr>\n",
       "    <tr>\n",
       "      <th>3</th>\n",
       "      <td>1</td>\n",
       "      <td>181.00</td>\n",
       "      <td>0.0</td>\n",
       "      <td>0.00</td>\n",
       "      <td>1</td>\n",
       "      <td>0.00</td>\n",
       "      <td>21001.00</td>\n",
       "    </tr>\n",
       "    <tr>\n",
       "      <th>15</th>\n",
       "      <td>1</td>\n",
       "      <td>229133.94</td>\n",
       "      <td>0.0</td>\n",
       "      <td>51513.44</td>\n",
       "      <td>0</td>\n",
       "      <td>-213808.94</td>\n",
       "      <td>-275564.38</td>\n",
       "    </tr>\n",
       "    <tr>\n",
       "      <th>19</th>\n",
       "      <td>1</td>\n",
       "      <td>215310.30</td>\n",
       "      <td>0.0</td>\n",
       "      <td>0.00</td>\n",
       "      <td>0</td>\n",
       "      <td>-214605.30</td>\n",
       "      <td>-192885.30</td>\n",
       "    </tr>\n",
       "    <tr>\n",
       "      <th>24</th>\n",
       "      <td>1</td>\n",
       "      <td>311685.89</td>\n",
       "      <td>0.0</td>\n",
       "      <td>2719172.89</td>\n",
       "      <td>0</td>\n",
       "      <td>-300850.89</td>\n",
       "      <td>-3024591.78</td>\n",
       "    </tr>\n",
       "    <tr>\n",
       "      <th>...</th>\n",
       "      <td>...</td>\n",
       "      <td>...</td>\n",
       "      <td>...</td>\n",
       "      <td>...</td>\n",
       "      <td>...</td>\n",
       "      <td>...</td>\n",
       "      <td>...</td>\n",
       "    </tr>\n",
       "    <tr>\n",
       "      <th>6351186</th>\n",
       "      <td>699</td>\n",
       "      <td>62372.43</td>\n",
       "      <td>0.0</td>\n",
       "      <td>1257759.90</td>\n",
       "      <td>1</td>\n",
       "      <td>0.00</td>\n",
       "      <td>-124744.86</td>\n",
       "    </tr>\n",
       "    <tr>\n",
       "      <th>6351188</th>\n",
       "      <td>699</td>\n",
       "      <td>162326.52</td>\n",
       "      <td>0.0</td>\n",
       "      <td>0.00</td>\n",
       "      <td>1</td>\n",
       "      <td>0.00</td>\n",
       "      <td>-162326.52</td>\n",
       "    </tr>\n",
       "    <tr>\n",
       "      <th>6351189</th>\n",
       "      <td>699</td>\n",
       "      <td>162326.52</td>\n",
       "      <td>0.0</td>\n",
       "      <td>162326.52</td>\n",
       "      <td>1</td>\n",
       "      <td>0.00</td>\n",
       "      <td>-324653.04</td>\n",
       "    </tr>\n",
       "    <tr>\n",
       "      <th>6351190</th>\n",
       "      <td>699</td>\n",
       "      <td>2763398.31</td>\n",
       "      <td>0.0</td>\n",
       "      <td>0.00</td>\n",
       "      <td>1</td>\n",
       "      <td>0.00</td>\n",
       "      <td>-2763398.31</td>\n",
       "    </tr>\n",
       "    <tr>\n",
       "      <th>6351191</th>\n",
       "      <td>699</td>\n",
       "      <td>2763398.31</td>\n",
       "      <td>0.0</td>\n",
       "      <td>3102913.66</td>\n",
       "      <td>1</td>\n",
       "      <td>0.00</td>\n",
       "      <td>-5526796.62</td>\n",
       "    </tr>\n",
       "  </tbody>\n",
       "</table>\n",
       "<p>2765186 rows × 7 columns</p>\n",
       "</div>"
      ],
      "text/plain": [
       "         step      amount  newbalanceOrig  newbalanceDest  isFraud  \\\n",
       "2           1      181.00             0.0            0.00        1   \n",
       "3           1      181.00             0.0            0.00        1   \n",
       "15          1   229133.94             0.0        51513.44        0   \n",
       "19          1   215310.30             0.0            0.00        0   \n",
       "24          1   311685.89             0.0      2719172.89        0   \n",
       "...       ...         ...             ...             ...      ...   \n",
       "6351186   699    62372.43             0.0      1257759.90        1   \n",
       "6351188   699   162326.52             0.0            0.00        1   \n",
       "6351189   699   162326.52             0.0       162326.52        1   \n",
       "6351190   699  2763398.31             0.0            0.00        1   \n",
       "6351191   699  2763398.31             0.0      3102913.66        1   \n",
       "\n",
       "         originError   destError  \n",
       "2               0.00     -181.00  \n",
       "3               0.00    21001.00  \n",
       "15        -213808.94  -275564.38  \n",
       "19        -214605.30  -192885.30  \n",
       "24        -300850.89 -3024591.78  \n",
       "...              ...         ...  \n",
       "6351186         0.00  -124744.86  \n",
       "6351188         0.00  -162326.52  \n",
       "6351189         0.00  -324653.04  \n",
       "6351190         0.00 -2763398.31  \n",
       "6351191         0.00 -5526796.62  \n",
       "\n",
       "[2765186 rows x 7 columns]"
      ]
     },
     "execution_count": 31,
     "metadata": {},
     "output_type": "execute_result"
    }
   ],
   "source": [
    "df={'step':1,'amount':123123,'newbalanceOrig',123123,'newbalanceDest':123123,'originError':1,'destError',123123}"
   ]
  },
  {
   "cell_type": "code",
   "execution_count": null,
   "id": "64be465d",
   "metadata": {},
   "outputs": [],
   "source": []
  }
 ],
 "metadata": {
  "kernelspec": {
   "display_name": "Python 3 (ipykernel)",
   "language": "python",
   "name": "python3"
  },
  "language_info": {
   "codemirror_mode": {
    "name": "ipython",
    "version": 3
   },
   "file_extension": ".py",
   "mimetype": "text/x-python",
   "name": "python",
   "nbconvert_exporter": "python",
   "pygments_lexer": "ipython3",
   "version": "3.9.7"
  }
 },
 "nbformat": 4,
 "nbformat_minor": 5
}