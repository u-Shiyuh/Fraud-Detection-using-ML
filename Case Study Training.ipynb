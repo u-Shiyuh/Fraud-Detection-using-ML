{
 "cells": [
  {
   "cell_type": "markdown",
   "id": "6c735434",
   "metadata": {},
   "source": [
    "# Case Study\n",
    "King Matthew Ochoa\n",
    "\n",
    "Applied Machine Learning"
   ]
  },
  {
   "cell_type": "code",
   "execution_count": 1,
   "id": "a30be1c4",
   "metadata": {},
   "outputs": [],
   "source": [
    "#importing libraries\n",
    "import pandas as pd\n",
    "import matplotlib.pyplot as plt\n",
    "from sklearn import metrics\n",
    "import numpy as np\n",
    "import pickle\n",
    "import seaborn as sns"
   ]
  },
  {
   "cell_type": "code",
   "execution_count": 2,
   "id": "85545e2c",
   "metadata": {},
   "outputs": [],
   "source": [
    "#read data\n",
    "df = pd.read_csv('transactions_train.csv')"
   ]
  },
  {
   "cell_type": "code",
   "execution_count": 3,
   "id": "bbada0d2",
   "metadata": {},
   "outputs": [
    {
     "data": {
      "text/html": [
       "<div>\n",
       "<style scoped>\n",
       "    .dataframe tbody tr th:only-of-type {\n",
       "        vertical-align: middle;\n",
       "    }\n",
       "\n",
       "    .dataframe tbody tr th {\n",
       "        vertical-align: top;\n",
       "    }\n",
       "\n",
       "    .dataframe thead th {\n",
       "        text-align: right;\n",
       "    }\n",
       "</style>\n",
       "<table border=\"1\" class=\"dataframe\">\n",
       "  <thead>\n",
       "    <tr style=\"text-align: right;\">\n",
       "      <th></th>\n",
       "      <th>step</th>\n",
       "      <th>type</th>\n",
       "      <th>amount</th>\n",
       "      <th>nameOrig</th>\n",
       "      <th>oldbalanceOrig</th>\n",
       "      <th>newbalanceOrig</th>\n",
       "      <th>nameDest</th>\n",
       "      <th>oldbalanceDest</th>\n",
       "      <th>newbalanceDest</th>\n",
       "      <th>isFraud</th>\n",
       "    </tr>\n",
       "  </thead>\n",
       "  <tbody>\n",
       "    <tr>\n",
       "      <th>0</th>\n",
       "      <td>1</td>\n",
       "      <td>PAYMENT</td>\n",
       "      <td>9839.64</td>\n",
       "      <td>C1231006815</td>\n",
       "      <td>170136.0</td>\n",
       "      <td>160296.36</td>\n",
       "      <td>M1979787155</td>\n",
       "      <td>0.0</td>\n",
       "      <td>0.0</td>\n",
       "      <td>0</td>\n",
       "    </tr>\n",
       "    <tr>\n",
       "      <th>1</th>\n",
       "      <td>1</td>\n",
       "      <td>PAYMENT</td>\n",
       "      <td>1864.28</td>\n",
       "      <td>C1666544295</td>\n",
       "      <td>21249.0</td>\n",
       "      <td>19384.72</td>\n",
       "      <td>M2044282225</td>\n",
       "      <td>0.0</td>\n",
       "      <td>0.0</td>\n",
       "      <td>0</td>\n",
       "    </tr>\n",
       "    <tr>\n",
       "      <th>2</th>\n",
       "      <td>1</td>\n",
       "      <td>TRANSFER</td>\n",
       "      <td>181.00</td>\n",
       "      <td>C1305486145</td>\n",
       "      <td>181.0</td>\n",
       "      <td>0.00</td>\n",
       "      <td>C553264065</td>\n",
       "      <td>0.0</td>\n",
       "      <td>0.0</td>\n",
       "      <td>1</td>\n",
       "    </tr>\n",
       "    <tr>\n",
       "      <th>3</th>\n",
       "      <td>1</td>\n",
       "      <td>CASH_OUT</td>\n",
       "      <td>181.00</td>\n",
       "      <td>C840083671</td>\n",
       "      <td>181.0</td>\n",
       "      <td>0.00</td>\n",
       "      <td>C38997010</td>\n",
       "      <td>21182.0</td>\n",
       "      <td>0.0</td>\n",
       "      <td>1</td>\n",
       "    </tr>\n",
       "    <tr>\n",
       "      <th>4</th>\n",
       "      <td>1</td>\n",
       "      <td>PAYMENT</td>\n",
       "      <td>11668.14</td>\n",
       "      <td>C2048537720</td>\n",
       "      <td>41554.0</td>\n",
       "      <td>29885.86</td>\n",
       "      <td>M1230701703</td>\n",
       "      <td>0.0</td>\n",
       "      <td>0.0</td>\n",
       "      <td>0</td>\n",
       "    </tr>\n",
       "  </tbody>\n",
       "</table>\n",
       "</div>"
      ],
      "text/plain": [
       "   step      type    amount     nameOrig  oldbalanceOrig  newbalanceOrig  \\\n",
       "0     1   PAYMENT   9839.64  C1231006815        170136.0       160296.36   \n",
       "1     1   PAYMENT   1864.28  C1666544295         21249.0        19384.72   \n",
       "2     1  TRANSFER    181.00  C1305486145           181.0            0.00   \n",
       "3     1  CASH_OUT    181.00   C840083671           181.0            0.00   \n",
       "4     1   PAYMENT  11668.14  C2048537720         41554.0        29885.86   \n",
       "\n",
       "      nameDest  oldbalanceDest  newbalanceDest  isFraud  \n",
       "0  M1979787155             0.0             0.0        0  \n",
       "1  M2044282225             0.0             0.0        0  \n",
       "2   C553264065             0.0             0.0        1  \n",
       "3    C38997010         21182.0             0.0        1  \n",
       "4  M1230701703             0.0             0.0        0  "
      ]
     },
     "execution_count": 3,
     "metadata": {},
     "output_type": "execute_result"
    }
   ],
   "source": [
    "#checking data\n",
    "df.head()"
   ]
  },
  {
   "cell_type": "code",
   "execution_count": 4,
   "id": "f18f07bb",
   "metadata": {},
   "outputs": [
    {
     "name": "stdout",
     "output_type": "stream",
     "text": [
      "number of the data points is 6351193 rows and 10\n",
      "\n",
      " column names are:\n",
      "['step', 'type', 'amount', 'nameOrig', 'oldbalanceOrig', 'newbalanceOrig', 'nameDest', 'oldbalanceDest', 'newbalanceDest', 'isFraud']\n",
      "\n",
      " column types are:\n",
      "[dtype('int64'), dtype('O'), dtype('float64'), dtype('O'), dtype('float64'), dtype('float64'), dtype('O'), dtype('float64'), dtype('float64'), dtype('int64')]\n"
     ]
    }
   ],
   "source": [
    "## checking the dataset structure\n",
    "print('number of the data points is ' + str(df.shape[0]) + ' rows and ' + str(df.shape[1]))\n",
    "#checking the column names \n",
    "print('\\n column names are:')\n",
    "print(df.columns.tolist())\n",
    "print('\\n column types are:')\n",
    "print(df.dtypes.tolist())"
   ]
  },
  {
   "cell_type": "code",
   "execution_count": 5,
   "id": "f88cace8",
   "metadata": {},
   "outputs": [
    {
     "name": "stdout",
     "output_type": "stream",
     "text": [
      "the transactions can divided into several types\n"
     ]
    },
    {
     "data": {
      "text/plain": [
       "CASH_OUT    2233369\n",
       "PAYMENT     2147832\n",
       "CASH_IN     1396865\n",
       "TRANSFER     531817\n",
       "DEBIT         41310\n",
       "Name: type, dtype: int64"
      ]
     },
     "execution_count": 5,
     "metadata": {},
     "output_type": "execute_result"
    }
   ],
   "source": [
    "#inspecting the dataset further\n",
    "print('the transactions can divided into several types')\n",
    "df.type.value_counts()"
   ]
  },
  {
   "cell_type": "code",
   "execution_count": 6,
   "id": "a597dd3f",
   "metadata": {},
   "outputs": [
    {
     "data": {
      "text/plain": [
       "<AxesSubplot:>"
      ]
     },
     "execution_count": 6,
     "metadata": {},
     "output_type": "execute_result"
    },
    {
     "data": {
      "image/png": "[encoded data removed]",
      "text/plain": [
       "<Figure size 720x576 with 1 Axes>"
      ]
     },
     "metadata": {
      "needs_background": "light"
     },
     "output_type": "display_data"
    }
   ],
   "source": [
    "by_types = df['type'].value_counts()\n",
    "fig, ax = plt.subplots()\n",
    "ax.ticklabel_format(style='plain')\n",
    "by_types.plot(kind='bar',figsize=(10,8))"
   ]
  },
  {
   "cell_type": "code",
   "execution_count": 7,
   "id": "023fe813",
   "metadata": {},
   "outputs": [
    {
     "name": "stdout",
     "output_type": "stream",
     "text": [
      "CASH_OUT    2233369\n",
      "PAYMENT     2147832\n",
      "CASH_IN     1396865\n",
      "TRANSFER     531817\n",
      "DEBIT         41310\n",
      "Name: type, dtype: int64\n",
      "CASH_OUT    3868\n",
      "TRANSFER    3849\n",
      "Name: type, dtype: int64\n"
     ]
    }
   ],
   "source": [
    "#checking for all transaction, and al\n",
    "x = df['type'].unique()\n",
    "y1 = df['type'].value_counts()\n",
    "y2 = df[df['isFraud']==1]['type'].value_counts()\n",
    "print(y1)\n",
    "print(y2)"
   ]
  },
  {
   "cell_type": "code",
   "execution_count": 8,
   "id": "5e1c0b4b",
   "metadata": {},
   "outputs": [
    {
     "data": {
      "text/plain": [
       "CASH_OUT    3868\n",
       "TRANSFER    3849\n",
       "CASH_IN        0\n",
       "PAYMENT        0\n",
       "DEBIT          0\n",
       "dtype: int64"
      ]
     },
     "execution_count": 8,
     "metadata": {},
     "output_type": "execute_result"
    }
   ],
   "source": [
    "#attaching \n",
    "missing_values = {'CASH_IN':0,'PAYMENT':0,'DEBIT':0, }\n",
    "S = pd.Series(missing_values)\n",
    "y2 = y2.append(S)\n",
    "y2"
   ]
  },
  {
   "cell_type": "code",
   "execution_count": 9,
   "id": "27eee306",
   "metadata": {},
   "outputs": [
    {
     "data": {
      "text/plain": [
       "step  type      amount      nameOrig     oldbalanceOrig  newbalanceOrig  nameDest     oldbalanceDest  newbalanceDest  isFraud\n",
       "1     CASH_OUT  181.00      C840083671   181.00          0.0             C38997010    21182.00        0.00            1          1\n",
       "463   CASH_OUT  219300.76   C1410654808  219300.76       0.0             C1763889280  19058370.95     19277671.71     1          1\n",
       "461   CASH_OUT  125153.57   C1856719659  125153.57       0.0             C1226867237  7517.14         132670.71       1          1\n",
       "460   TRANSFER  2059980.16  C1506089450  2059980.16      0.0             C1564280287  0.00            0.00            1          1\n",
       "                1424002.70  C777622163   1424002.70      0.0             C413417554   0.00            0.00            1          1\n",
       "                                                                                                                                ..\n",
       "228   TRANSFER  2874626.02  C1926697362  2874626.02      0.0             C443920202   0.00            0.00            1          1\n",
       "                1323909.85  C174356762   1323909.85      0.0             C1545375198  0.00            0.00            1          1\n",
       "                497526.17   C1294188821  497526.17       0.0             C1799178468  0.00            0.00            1          1\n",
       "                355151.57   C1895390666  355151.57       0.0             C406885847   0.00            0.00            1          1\n",
       "699   TRANSFER  2763398.31  C577803442   2763398.31      0.0             C619602282   0.00            0.00            1          1\n",
       "Length: 7717, dtype: int64"
      ]
     },
     "execution_count": 9,
     "metadata": {},
     "output_type": "execute_result"
    }
   ],
   "source": [
    "df[df['isFraud']==1].value_counts()"
   ]
  },
  {
   "cell_type": "code",
   "execution_count": 10,
   "id": "1a24892a",
   "metadata": {},
   "outputs": [
    {
     "data": {
      "image/png": "[encoded data removed]",
      "text/plain": [
       "<Figure size 432x288 with 1 Axes>"
      ]
     },
     "metadata": {},
     "output_type": "display_data"
    }
   ],
   "source": [
    "mylabels = [\"Fraud\", \"Not Fraud\"]\n",
    "plt.pie([df[df['isFraud']==1].shape[0], df[df['isFraud']==0].shape[0]],\n",
    " labels = mylabels,\n",
    " explode = [1, 0],\n",
    " colors = ['red','green'],\n",
    " autopct='%.2f%%')\n",
    "plt.show()\n"
   ]
  },
  {
   "cell_type": "code",
   "execution_count": 11,
   "id": "6478ccfd",
   "metadata": {},
   "outputs": [
    {
     "data": {
      "image/png": "[encoded data removed]",
      "text/plain": [
       "<Figure size 1152x576 with 1 Axes>"
      ]
     },
     "metadata": {},
     "output_type": "display_data"
    },
    {
     "data": {
      "image/png": "[encoded data removed]",
      "text/plain": [
       "<Figure size 1152x576 with 1 Axes>"
      ]
     },
     "metadata": {},
     "output_type": "display_data"
    },
    {
     "data": {
      "image/png": "[encoded data removed]",
      "text/plain": [
       "<Figure size 1152x576 with 1 Axes>"
      ]
     },
     "metadata": {},
     "output_type": "display_data"
    },
    {
     "data": {
      "image/png": "[encoded data removed]",
      "text/plain": [
       "<Figure size 1152x576 with 1 Axes>"
      ]
     },
     "metadata": {},
     "output_type": "display_data"
    },
    {
     "data": {
      "image/png": "[encoded data removed]",
      "text/plain": [
       "<Figure size 1152x576 with 1 Axes>"
      ]
     },
     "metadata": {},
     "output_type": "display_data"
    }
   ],
   "source": [
    "types = ['CASH_OUT','TRANSFER','CASH_IN','PAYMENT','DEBIT']\n",
    "i = 1;\n",
    "for type in types:\n",
    " plt.figure(figsize=(16, 8))\n",
    " plt.subplot(1, 7, i)\n",
    " i += 1\n",
    " plt.pie([df[(df['isFraud']==1) & (df['type']==type)].shape[0],\n",
    " df[df['isFraud']==0 & (df['type']==type)].shape[0]],\n",
    " labels = mylabels,\n",
    " explode = [1, 1],\n",
    " textprops={'size': 'small'},\n",
    " colors = ['red','green'],\n",
    " autopct='%.2f%%')\n",
    " plt.title(type)\n",
    " plt.show()"
   ]
  },
  {
   "cell_type": "code",
   "execution_count": 12,
   "id": "bb02f7dc",
   "metadata": {},
   "outputs": [
    {
     "data": {
      "image/png": "[encoded data removed]",
      "text/plain": [
       "<Figure size 1800x1800 with 9 Axes>"
      ]
     },
     "metadata": {
      "needs_background": "light"
     },
     "output_type": "display_data"
    }
   ],
   "source": [
    "#boxplot\n",
    "df.boxplot(by='type', figsize= (25,25));"
   ]
  },
  {
   "cell_type": "code",
   "execution_count": 13,
   "id": "555e1024",
   "metadata": {},
   "outputs": [
    {
     "data": {
      "text/html": [
       "<div>\n",
       "<style scoped>\n",
       "    .dataframe tbody tr th:only-of-type {\n",
       "        vertical-align: middle;\n",
       "    }\n",
       "\n",
       "    .dataframe tbody tr th {\n",
       "        vertical-align: top;\n",
       "    }\n",
       "\n",
       "    .dataframe thead th {\n",
       "        text-align: right;\n",
       "    }\n",
       "</style>\n",
       "<table border=\"1\" class=\"dataframe\">\n",
       "  <thead>\n",
       "    <tr style=\"text-align: right;\">\n",
       "      <th></th>\n",
       "      <th>step</th>\n",
       "      <th>amount</th>\n",
       "      <th>oldbalanceOrig</th>\n",
       "      <th>newbalanceOrig</th>\n",
       "      <th>oldbalanceDest</th>\n",
       "      <th>newbalanceDest</th>\n",
       "      <th>isFraud</th>\n",
       "    </tr>\n",
       "  </thead>\n",
       "  <tbody>\n",
       "    <tr>\n",
       "      <th>count</th>\n",
       "      <td>6.351193e+06</td>\n",
       "      <td>6.351193e+06</td>\n",
       "      <td>6.351193e+06</td>\n",
       "      <td>6.351193e+06</td>\n",
       "      <td>6.351193e+06</td>\n",
       "      <td>6.351193e+06</td>\n",
       "      <td>6.351193e+06</td>\n",
       "    </tr>\n",
       "    <tr>\n",
       "      <th>mean</th>\n",
       "      <td>2.425553e+02</td>\n",
       "      <td>1.798155e+05</td>\n",
       "      <td>8.347957e+05</td>\n",
       "      <td>8.561696e+05</td>\n",
       "      <td>1.101043e+06</td>\n",
       "      <td>1.225372e+06</td>\n",
       "      <td>1.215047e-03</td>\n",
       "    </tr>\n",
       "    <tr>\n",
       "      <th>std</th>\n",
       "      <td>1.410676e+02</td>\n",
       "      <td>6.036310e+05</td>\n",
       "      <td>2.889959e+06</td>\n",
       "      <td>2.926073e+06</td>\n",
       "      <td>3.398924e+06</td>\n",
       "      <td>3.674293e+06</td>\n",
       "      <td>3.483635e-02</td>\n",
       "    </tr>\n",
       "    <tr>\n",
       "      <th>min</th>\n",
       "      <td>1.000000e+00</td>\n",
       "      <td>0.000000e+00</td>\n",
       "      <td>0.000000e+00</td>\n",
       "      <td>0.000000e+00</td>\n",
       "      <td>0.000000e+00</td>\n",
       "      <td>0.000000e+00</td>\n",
       "      <td>0.000000e+00</td>\n",
       "    </tr>\n",
       "    <tr>\n",
       "      <th>25%</th>\n",
       "      <td>1.550000e+02</td>\n",
       "      <td>1.338829e+04</td>\n",
       "      <td>0.000000e+00</td>\n",
       "      <td>0.000000e+00</td>\n",
       "      <td>0.000000e+00</td>\n",
       "      <td>0.000000e+00</td>\n",
       "      <td>0.000000e+00</td>\n",
       "    </tr>\n",
       "    <tr>\n",
       "      <th>50%</th>\n",
       "      <td>2.380000e+02</td>\n",
       "      <td>7.486483e+04</td>\n",
       "      <td>1.415300e+04</td>\n",
       "      <td>0.000000e+00</td>\n",
       "      <td>1.330865e+05</td>\n",
       "      <td>2.149190e+05</td>\n",
       "      <td>0.000000e+00</td>\n",
       "    </tr>\n",
       "    <tr>\n",
       "      <th>75%</th>\n",
       "      <td>3.340000e+02</td>\n",
       "      <td>2.087152e+05</td>\n",
       "      <td>1.073460e+05</td>\n",
       "      <td>1.443651e+05</td>\n",
       "      <td>9.438661e+05</td>\n",
       "      <td>1.112791e+06</td>\n",
       "      <td>0.000000e+00</td>\n",
       "    </tr>\n",
       "    <tr>\n",
       "      <th>max</th>\n",
       "      <td>6.990000e+02</td>\n",
       "      <td>9.244552e+07</td>\n",
       "      <td>5.958504e+07</td>\n",
       "      <td>4.958504e+07</td>\n",
       "      <td>3.560159e+08</td>\n",
       "      <td>3.561793e+08</td>\n",
       "      <td>1.000000e+00</td>\n",
       "    </tr>\n",
       "  </tbody>\n",
       "</table>\n",
       "</div>"
      ],
      "text/plain": [
       "               step        amount  oldbalanceOrig  newbalanceOrig  \\\n",
       "count  6.351193e+06  6.351193e+06    6.351193e+06    6.351193e+06   \n",
       "mean   2.425553e+02  1.798155e+05    8.347957e+05    8.561696e+05   \n",
       "std    1.410676e+02  6.036310e+05    2.889959e+06    2.926073e+06   \n",
       "min    1.000000e+00  0.000000e+00    0.000000e+00    0.000000e+00   \n",
       "25%    1.550000e+02  1.338829e+04    0.000000e+00    0.000000e+00   \n",
       "50%    2.380000e+02  7.486483e+04    1.415300e+04    0.000000e+00   \n",
       "75%    3.340000e+02  2.087152e+05    1.073460e+05    1.443651e+05   \n",
       "max    6.990000e+02  9.244552e+07    5.958504e+07    4.958504e+07   \n",
       "\n",
       "       oldbalanceDest  newbalanceDest       isFraud  \n",
       "count    6.351193e+06    6.351193e+06  6.351193e+06  \n",
       "mean     1.101043e+06    1.225372e+06  1.215047e-03  \n",
       "std      3.398924e+06    3.674293e+06  3.483635e-02  \n",
       "min      0.000000e+00    0.000000e+00  0.000000e+00  \n",
       "25%      0.000000e+00    0.000000e+00  0.000000e+00  \n",
       "50%      1.330865e+05    2.149190e+05  0.000000e+00  \n",
       "75%      9.438661e+05    1.112791e+06  0.000000e+00  \n",
       "max      3.560159e+08    3.561793e+08  1.000000e+00  "
      ]
     },
     "execution_count": 13,
     "metadata": {},
     "output_type": "execute_result"
    }
   ],
   "source": [
    "#checking the central tendencies of the data\n",
    "df.describe()"
   ]
  },
  {
   "cell_type": "code",
   "execution_count": 14,
   "id": "99d37cfc",
   "metadata": {},
   "outputs": [
    {
     "data": {
      "text/html": [
       "<div>\n",
       "<style scoped>\n",
       "    .dataframe tbody tr th:only-of-type {\n",
       "        vertical-align: middle;\n",
       "    }\n",
       "\n",
       "    .dataframe tbody tr th {\n",
       "        vertical-align: top;\n",
       "    }\n",
       "\n",
       "    .dataframe thead th {\n",
       "        text-align: right;\n",
       "    }\n",
       "</style>\n",
       "<table border=\"1\" class=\"dataframe\">\n",
       "  <thead>\n",
       "    <tr style=\"text-align: right;\">\n",
       "      <th></th>\n",
       "      <th>step</th>\n",
       "      <th>amount</th>\n",
       "      <th>oldbalanceOrig</th>\n",
       "      <th>newbalanceOrig</th>\n",
       "      <th>oldbalanceDest</th>\n",
       "      <th>newbalanceDest</th>\n",
       "      <th>isFraud</th>\n",
       "    </tr>\n",
       "    <tr>\n",
       "      <th>type</th>\n",
       "      <th></th>\n",
       "      <th></th>\n",
       "      <th></th>\n",
       "      <th></th>\n",
       "      <th></th>\n",
       "      <th></th>\n",
       "      <th></th>\n",
       "    </tr>\n",
       "  </thead>\n",
       "  <tbody>\n",
       "    <tr>\n",
       "      <th>CASH_IN</th>\n",
       "      <td>243.684008</td>\n",
       "      <td>168932.556168</td>\n",
       "      <td>3.595239e+06</td>\n",
       "      <td>3.764167e+06</td>\n",
       "      <td>1.588269e+06</td>\n",
       "      <td>1.467434e+06</td>\n",
       "      <td>0.000000</td>\n",
       "    </tr>\n",
       "    <tr>\n",
       "      <th>CASH_OUT</th>\n",
       "      <td>240.030399</td>\n",
       "      <td>176114.346385</td>\n",
       "      <td>4.582029e+04</td>\n",
       "      <td>1.747357e+04</td>\n",
       "      <td>1.498099e+06</td>\n",
       "      <td>1.691539e+06</td>\n",
       "      <td>0.001732</td>\n",
       "    </tr>\n",
       "    <tr>\n",
       "      <th>DEBIT</th>\n",
       "      <td>247.069354</td>\n",
       "      <td>5487.557117</td>\n",
       "      <td>6.859559e+04</td>\n",
       "      <td>6.511079e+04</td>\n",
       "      <td>1.490370e+06</td>\n",
       "      <td>1.510284e+06</td>\n",
       "      <td>0.000000</td>\n",
       "    </tr>\n",
       "    <tr>\n",
       "      <th>PAYMENT</th>\n",
       "      <td>243.581284</td>\n",
       "      <td>13057.864411</td>\n",
       "      <td>6.822245e+04</td>\n",
       "      <td>6.184736e+04</td>\n",
       "      <td>0.000000e+00</td>\n",
       "      <td>0.000000e+00</td>\n",
       "      <td>0.000000</td>\n",
       "    </tr>\n",
       "    <tr>\n",
       "      <th>TRANSFER</th>\n",
       "      <td>245.699716</td>\n",
       "      <td>910963.896496</td>\n",
       "      <td>5.300069e+04</td>\n",
       "      <td>9.613766e+03</td>\n",
       "      <td>2.570362e+06</td>\n",
       "      <td>3.558642e+06</td>\n",
       "      <td>0.007237</td>\n",
       "    </tr>\n",
       "  </tbody>\n",
       "</table>\n",
       "</div>"
      ],
      "text/plain": [
       "                step         amount  oldbalanceOrig  newbalanceOrig  \\\n",
       "type                                                                  \n",
       "CASH_IN   243.684008  168932.556168    3.595239e+06    3.764167e+06   \n",
       "CASH_OUT  240.030399  176114.346385    4.582029e+04    1.747357e+04   \n",
       "DEBIT     247.069354    5487.557117    6.859559e+04    6.511079e+04   \n",
       "PAYMENT   243.581284   13057.864411    6.822245e+04    6.184736e+04   \n",
       "TRANSFER  245.699716  910963.896496    5.300069e+04    9.613766e+03   \n",
       "\n",
       "          oldbalanceDest  newbalanceDest   isFraud  \n",
       "type                                                \n",
       "CASH_IN     1.588269e+06    1.467434e+06  0.000000  \n",
       "CASH_OUT    1.498099e+06    1.691539e+06  0.001732  \n",
       "DEBIT       1.490370e+06    1.510284e+06  0.000000  \n",
       "PAYMENT     0.000000e+00    0.000000e+00  0.000000  \n",
       "TRANSFER    2.570362e+06    3.558642e+06  0.007237  "
      ]
     },
     "execution_count": 14,
     "metadata": {},
     "output_type": "execute_result"
    }
   ],
   "source": [
    "# Checking the average value per type\n",
    "df.groupby('type').mean()"
   ]
  },
  {
   "cell_type": "code",
   "execution_count": 15,
   "id": "1cfb855d",
   "metadata": {},
   "outputs": [
    {
     "data": {
      "text/html": [
       "<div>\n",
       "<style scoped>\n",
       "    .dataframe tbody tr th:only-of-type {\n",
       "        vertical-align: middle;\n",
       "    }\n",
       "\n",
       "    .dataframe tbody tr th {\n",
       "        vertical-align: top;\n",
       "    }\n",
       "\n",
       "    .dataframe thead th {\n",
       "        text-align: right;\n",
       "    }\n",
       "</style>\n",
       "<table border=\"1\" class=\"dataframe\">\n",
       "  <thead>\n",
       "    <tr style=\"text-align: right;\">\n",
       "      <th></th>\n",
       "      <th>step</th>\n",
       "      <th>amount</th>\n",
       "      <th>oldbalanceOrig</th>\n",
       "      <th>newbalanceOrig</th>\n",
       "      <th>oldbalanceDest</th>\n",
       "      <th>newbalanceDest</th>\n",
       "      <th>isFraud</th>\n",
       "    </tr>\n",
       "    <tr>\n",
       "      <th>type</th>\n",
       "      <th></th>\n",
       "      <th></th>\n",
       "      <th></th>\n",
       "      <th></th>\n",
       "      <th></th>\n",
       "      <th></th>\n",
       "      <th></th>\n",
       "    </tr>\n",
       "  </thead>\n",
       "  <tbody>\n",
       "    <tr>\n",
       "      <th>CASH_IN</th>\n",
       "      <td>240.0</td>\n",
       "      <td>143426.010</td>\n",
       "      <td>1206685.34</td>\n",
       "      <td>1375671.93</td>\n",
       "      <td>547477.940</td>\n",
       "      <td>386215.580</td>\n",
       "      <td>0.0</td>\n",
       "    </tr>\n",
       "    <tr>\n",
       "      <th>CASH_OUT</th>\n",
       "      <td>236.0</td>\n",
       "      <td>147069.010</td>\n",
       "      <td>544.00</td>\n",
       "      <td>0.00</td>\n",
       "      <td>488729.590</td>\n",
       "      <td>688201.770</td>\n",
       "      <td>0.0</td>\n",
       "    </tr>\n",
       "    <tr>\n",
       "      <th>DEBIT</th>\n",
       "      <td>252.0</td>\n",
       "      <td>3048.665</td>\n",
       "      <td>20812.10</td>\n",
       "      <td>16577.11</td>\n",
       "      <td>424060.225</td>\n",
       "      <td>439058.525</td>\n",
       "      <td>0.0</td>\n",
       "    </tr>\n",
       "    <tr>\n",
       "      <th>PAYMENT</th>\n",
       "      <td>241.0</td>\n",
       "      <td>9481.795</td>\n",
       "      <td>10516.00</td>\n",
       "      <td>0.00</td>\n",
       "      <td>0.000</td>\n",
       "      <td>0.000</td>\n",
       "      <td>0.0</td>\n",
       "    </tr>\n",
       "    <tr>\n",
       "      <th>TRANSFER</th>\n",
       "      <td>249.0</td>\n",
       "      <td>486619.840</td>\n",
       "      <td>0.00</td>\n",
       "      <td>0.00</td>\n",
       "      <td>1018161.990</td>\n",
       "      <td>1728476.560</td>\n",
       "      <td>0.0</td>\n",
       "    </tr>\n",
       "  </tbody>\n",
       "</table>\n",
       "</div>"
      ],
      "text/plain": [
       "           step      amount  oldbalanceOrig  newbalanceOrig  oldbalanceDest  \\\n",
       "type                                                                          \n",
       "CASH_IN   240.0  143426.010      1206685.34      1375671.93      547477.940   \n",
       "CASH_OUT  236.0  147069.010          544.00            0.00      488729.590   \n",
       "DEBIT     252.0    3048.665        20812.10        16577.11      424060.225   \n",
       "PAYMENT   241.0    9481.795        10516.00            0.00           0.000   \n",
       "TRANSFER  249.0  486619.840            0.00            0.00     1018161.990   \n",
       "\n",
       "          newbalanceDest  isFraud  \n",
       "type                               \n",
       "CASH_IN       386215.580      0.0  \n",
       "CASH_OUT      688201.770      0.0  \n",
       "DEBIT         439058.525      0.0  \n",
       "PAYMENT            0.000      0.0  \n",
       "TRANSFER     1728476.560      0.0  "
      ]
     },
     "execution_count": 15,
     "metadata": {},
     "output_type": "execute_result"
    }
   ],
   "source": [
    "#checking the median value per type\n",
    "df.groupby('type').median()"
   ]
  },
  {
   "cell_type": "code",
   "execution_count": 16,
   "id": "d83062ab",
   "metadata": {},
   "outputs": [
    {
     "data": {
      "text/html": [
       "<div>\n",
       "<style scoped>\n",
       "    .dataframe tbody tr th:only-of-type {\n",
       "        vertical-align: middle;\n",
       "    }\n",
       "\n",
       "    .dataframe tbody tr th {\n",
       "        vertical-align: top;\n",
       "    }\n",
       "\n",
       "    .dataframe thead th {\n",
       "        text-align: right;\n",
       "    }\n",
       "</style>\n",
       "<table border=\"1\" class=\"dataframe\">\n",
       "  <thead>\n",
       "    <tr style=\"text-align: right;\">\n",
       "      <th></th>\n",
       "      <th>step</th>\n",
       "      <th>type</th>\n",
       "      <th>amount</th>\n",
       "      <th>nameOrig</th>\n",
       "      <th>oldbalanceOrig</th>\n",
       "      <th>newbalanceOrig</th>\n",
       "      <th>nameDest</th>\n",
       "      <th>oldbalanceDest</th>\n",
       "      <th>newbalanceDest</th>\n",
       "      <th>isFraud</th>\n",
       "    </tr>\n",
       "  </thead>\n",
       "  <tbody>\n",
       "    <tr>\n",
       "      <th>0</th>\n",
       "      <td>1</td>\n",
       "      <td>PAYMENT</td>\n",
       "      <td>9839.64</td>\n",
       "      <td>C1231006815</td>\n",
       "      <td>170136.0</td>\n",
       "      <td>160296.36</td>\n",
       "      <td>M1979787155</td>\n",
       "      <td>0.0</td>\n",
       "      <td>0.0</td>\n",
       "      <td>0</td>\n",
       "    </tr>\n",
       "    <tr>\n",
       "      <th>1</th>\n",
       "      <td>1</td>\n",
       "      <td>PAYMENT</td>\n",
       "      <td>1864.28</td>\n",
       "      <td>C1666544295</td>\n",
       "      <td>21249.0</td>\n",
       "      <td>19384.72</td>\n",
       "      <td>M2044282225</td>\n",
       "      <td>0.0</td>\n",
       "      <td>0.0</td>\n",
       "      <td>0</td>\n",
       "    </tr>\n",
       "    <tr>\n",
       "      <th>2</th>\n",
       "      <td>1</td>\n",
       "      <td>TRANSFER</td>\n",
       "      <td>181.00</td>\n",
       "      <td>C1305486145</td>\n",
       "      <td>181.0</td>\n",
       "      <td>0.00</td>\n",
       "      <td>C553264065</td>\n",
       "      <td>0.0</td>\n",
       "      <td>0.0</td>\n",
       "      <td>1</td>\n",
       "    </tr>\n",
       "    <tr>\n",
       "      <th>3</th>\n",
       "      <td>1</td>\n",
       "      <td>CASH_OUT</td>\n",
       "      <td>181.00</td>\n",
       "      <td>C840083671</td>\n",
       "      <td>181.0</td>\n",
       "      <td>0.00</td>\n",
       "      <td>C38997010</td>\n",
       "      <td>21182.0</td>\n",
       "      <td>0.0</td>\n",
       "      <td>1</td>\n",
       "    </tr>\n",
       "    <tr>\n",
       "      <th>4</th>\n",
       "      <td>1</td>\n",
       "      <td>PAYMENT</td>\n",
       "      <td>11668.14</td>\n",
       "      <td>C2048537720</td>\n",
       "      <td>41554.0</td>\n",
       "      <td>29885.86</td>\n",
       "      <td>M1230701703</td>\n",
       "      <td>0.0</td>\n",
       "      <td>0.0</td>\n",
       "      <td>0</td>\n",
       "    </tr>\n",
       "  </tbody>\n",
       "</table>\n",
       "</div>"
      ],
      "text/plain": [
       "   step      type    amount     nameOrig  oldbalanceOrig  newbalanceOrig  \\\n",
       "0     1   PAYMENT   9839.64  C1231006815        170136.0       160296.36   \n",
       "1     1   PAYMENT   1864.28  C1666544295         21249.0        19384.72   \n",
       "2     1  TRANSFER    181.00  C1305486145           181.0            0.00   \n",
       "3     1  CASH_OUT    181.00   C840083671           181.0            0.00   \n",
       "4     1   PAYMENT  11668.14  C2048537720         41554.0        29885.86   \n",
       "\n",
       "      nameDest  oldbalanceDest  newbalanceDest  isFraud  \n",
       "0  M1979787155             0.0             0.0        0  \n",
       "1  M2044282225             0.0             0.0        0  \n",
       "2   C553264065             0.0             0.0        1  \n",
       "3    C38997010         21182.0             0.0        1  \n",
       "4  M1230701703             0.0             0.0        0  "
      ]
     },
     "execution_count": 16,
     "metadata": {},
     "output_type": "execute_result"
    }
   ],
   "source": [
    "#cleaning the dataframe, discarding the unnecessary features, treating the categorical dat\n",
    "df.head()"
   ]
  },
  {
   "cell_type": "code",
   "execution_count": 17,
   "id": "c04e5999",
   "metadata": {},
   "outputs": [
    {
     "data": {
      "image/png": "[encoded data removed]",
      "text/plain": [
       "<Figure size 1440x1440 with 2 Axes>"
      ]
     },
     "metadata": {
      "needs_background": "light"
     },
     "output_type": "display_data"
    }
   ],
   "source": [
    "plt.figure(figsize=(20, 20))\n",
    "#remove uncessary columns\n",
    "updated_df = df.drop(['nameOrig', 'nameDest'], axis = 1)\n",
    "heatmap = sns.heatmap(updated_df.corr(), vmin=-1, vmax=1, annot=True)\n",
    "heatmap.set_title('Correlation Heatmap', fontdict={'fontsize':12}, pad=12);\n",
    "\n",
    "#treat categorical data\n",
    "updt_df = pd.get_dummies(updated_df)"
   ]
  },
  {
   "cell_type": "code",
   "execution_count": 18,
   "id": "8c060efd",
   "metadata": {},
   "outputs": [
    {
     "data": {
      "text/plain": [
       "step                int64\n",
       "amount            float64\n",
       "oldbalanceOrig    float64\n",
       "newbalanceOrig    float64\n",
       "oldbalanceDest    float64\n",
       "newbalanceDest    float64\n",
       "isFraud             int64\n",
       "type_CASH_IN        uint8\n",
       "type_CASH_OUT       uint8\n",
       "type_DEBIT          uint8\n",
       "type_PAYMENT        uint8\n",
       "type_TRANSFER       uint8\n",
       "dtype: object"
      ]
     },
     "execution_count": 18,
     "metadata": {},
     "output_type": "execute_result"
    }
   ],
   "source": [
    "#get all the values where types are 'CASH_OUT' and 'TRANSFER' since they are the transactions only with fraudulent transactions\n",
    "updt_df.dtypes"
   ]
  },
  {
   "cell_type": "code",
   "execution_count": 19,
   "id": "d6af7f90",
   "metadata": {},
   "outputs": [
    {
     "data": {
      "text/html": [
       "<div>\n",
       "<style scoped>\n",
       "    .dataframe tbody tr th:only-of-type {\n",
       "        vertical-align: middle;\n",
       "    }\n",
       "\n",
       "    .dataframe tbody tr th {\n",
       "        vertical-align: top;\n",
       "    }\n",
       "\n",
       "    .dataframe thead th {\n",
       "        text-align: right;\n",
       "    }\n",
       "</style>\n",
       "<table border=\"1\" class=\"dataframe\">\n",
       "  <thead>\n",
       "    <tr style=\"text-align: right;\">\n",
       "      <th></th>\n",
       "      <th>step</th>\n",
       "      <th>amount</th>\n",
       "      <th>oldbalanceOrig</th>\n",
       "      <th>newbalanceOrig</th>\n",
       "      <th>oldbalanceDest</th>\n",
       "      <th>newbalanceDest</th>\n",
       "      <th>isFraud</th>\n",
       "      <th>type_CASH_IN</th>\n",
       "      <th>type_CASH_OUT</th>\n",
       "      <th>type_DEBIT</th>\n",
       "      <th>type_PAYMENT</th>\n",
       "      <th>type_TRANSFER</th>\n",
       "    </tr>\n",
       "  </thead>\n",
       "  <tbody>\n",
       "    <tr>\n",
       "      <th>2</th>\n",
       "      <td>1</td>\n",
       "      <td>181.00</td>\n",
       "      <td>181.00</td>\n",
       "      <td>0.0</td>\n",
       "      <td>0.00</td>\n",
       "      <td>0.00</td>\n",
       "      <td>1</td>\n",
       "      <td>0</td>\n",
       "      <td>0</td>\n",
       "      <td>0</td>\n",
       "      <td>0</td>\n",
       "      <td>1</td>\n",
       "    </tr>\n",
       "    <tr>\n",
       "      <th>3</th>\n",
       "      <td>1</td>\n",
       "      <td>181.00</td>\n",
       "      <td>181.00</td>\n",
       "      <td>0.0</td>\n",
       "      <td>21182.00</td>\n",
       "      <td>0.00</td>\n",
       "      <td>1</td>\n",
       "      <td>0</td>\n",
       "      <td>1</td>\n",
       "      <td>0</td>\n",
       "      <td>0</td>\n",
       "      <td>0</td>\n",
       "    </tr>\n",
       "    <tr>\n",
       "      <th>15</th>\n",
       "      <td>1</td>\n",
       "      <td>229133.94</td>\n",
       "      <td>15325.00</td>\n",
       "      <td>0.0</td>\n",
       "      <td>5083.00</td>\n",
       "      <td>51513.44</td>\n",
       "      <td>0</td>\n",
       "      <td>0</td>\n",
       "      <td>1</td>\n",
       "      <td>0</td>\n",
       "      <td>0</td>\n",
       "      <td>0</td>\n",
       "    </tr>\n",
       "    <tr>\n",
       "      <th>19</th>\n",
       "      <td>1</td>\n",
       "      <td>215310.30</td>\n",
       "      <td>705.00</td>\n",
       "      <td>0.0</td>\n",
       "      <td>22425.00</td>\n",
       "      <td>0.00</td>\n",
       "      <td>0</td>\n",
       "      <td>0</td>\n",
       "      <td>0</td>\n",
       "      <td>0</td>\n",
       "      <td>0</td>\n",
       "      <td>1</td>\n",
       "    </tr>\n",
       "    <tr>\n",
       "      <th>24</th>\n",
       "      <td>1</td>\n",
       "      <td>311685.89</td>\n",
       "      <td>10835.00</td>\n",
       "      <td>0.0</td>\n",
       "      <td>6267.00</td>\n",
       "      <td>2719172.89</td>\n",
       "      <td>0</td>\n",
       "      <td>0</td>\n",
       "      <td>0</td>\n",
       "      <td>0</td>\n",
       "      <td>0</td>\n",
       "      <td>1</td>\n",
       "    </tr>\n",
       "    <tr>\n",
       "      <th>...</th>\n",
       "      <td>...</td>\n",
       "      <td>...</td>\n",
       "      <td>...</td>\n",
       "      <td>...</td>\n",
       "      <td>...</td>\n",
       "      <td>...</td>\n",
       "      <td>...</td>\n",
       "      <td>...</td>\n",
       "      <td>...</td>\n",
       "      <td>...</td>\n",
       "      <td>...</td>\n",
       "      <td>...</td>\n",
       "    </tr>\n",
       "    <tr>\n",
       "      <th>6351186</th>\n",
       "      <td>699</td>\n",
       "      <td>62372.43</td>\n",
       "      <td>62372.43</td>\n",
       "      <td>0.0</td>\n",
       "      <td>1195387.47</td>\n",
       "      <td>1257759.90</td>\n",
       "      <td>1</td>\n",
       "      <td>0</td>\n",
       "      <td>1</td>\n",
       "      <td>0</td>\n",
       "      <td>0</td>\n",
       "      <td>0</td>\n",
       "    </tr>\n",
       "    <tr>\n",
       "      <th>6351188</th>\n",
       "      <td>699</td>\n",
       "      <td>162326.52</td>\n",
       "      <td>162326.52</td>\n",
       "      <td>0.0</td>\n",
       "      <td>0.00</td>\n",
       "      <td>0.00</td>\n",
       "      <td>1</td>\n",
       "      <td>0</td>\n",
       "      <td>0</td>\n",
       "      <td>0</td>\n",
       "      <td>0</td>\n",
       "      <td>1</td>\n",
       "    </tr>\n",
       "    <tr>\n",
       "      <th>6351189</th>\n",
       "      <td>699</td>\n",
       "      <td>162326.52</td>\n",
       "      <td>162326.52</td>\n",
       "      <td>0.0</td>\n",
       "      <td>0.00</td>\n",
       "      <td>162326.52</td>\n",
       "      <td>1</td>\n",
       "      <td>0</td>\n",
       "      <td>1</td>\n",
       "      <td>0</td>\n",
       "      <td>0</td>\n",
       "      <td>0</td>\n",
       "    </tr>\n",
       "    <tr>\n",
       "      <th>6351190</th>\n",
       "      <td>699</td>\n",
       "      <td>2763398.31</td>\n",
       "      <td>2763398.31</td>\n",
       "      <td>0.0</td>\n",
       "      <td>0.00</td>\n",
       "      <td>0.00</td>\n",
       "      <td>1</td>\n",
       "      <td>0</td>\n",
       "      <td>0</td>\n",
       "      <td>0</td>\n",
       "      <td>0</td>\n",
       "      <td>1</td>\n",
       "    </tr>\n",
       "    <tr>\n",
       "      <th>6351191</th>\n",
       "      <td>699</td>\n",
       "      <td>2763398.31</td>\n",
       "      <td>2763398.31</td>\n",
       "      <td>0.0</td>\n",
       "      <td>339515.35</td>\n",
       "      <td>3102913.66</td>\n",
       "      <td>1</td>\n",
       "      <td>0</td>\n",
       "      <td>1</td>\n",
       "      <td>0</td>\n",
       "      <td>0</td>\n",
       "      <td>0</td>\n",
       "    </tr>\n",
       "  </tbody>\n",
       "</table>\n",
       "<p>2765186 rows × 12 columns</p>\n",
       "</div>"
      ],
      "text/plain": [
       "         step      amount  oldbalanceOrig  newbalanceOrig  oldbalanceDest  \\\n",
       "2           1      181.00          181.00             0.0            0.00   \n",
       "3           1      181.00          181.00             0.0        21182.00   \n",
       "15          1   229133.94        15325.00             0.0         5083.00   \n",
       "19          1   215310.30          705.00             0.0        22425.00   \n",
       "24          1   311685.89        10835.00             0.0         6267.00   \n",
       "...       ...         ...             ...             ...             ...   \n",
       "6351186   699    62372.43        62372.43             0.0      1195387.47   \n",
       "6351188   699   162326.52       162326.52             0.0            0.00   \n",
       "6351189   699   162326.52       162326.52             0.0            0.00   \n",
       "6351190   699  2763398.31      2763398.31             0.0            0.00   \n",
       "6351191   699  2763398.31      2763398.31             0.0       339515.35   \n",
       "\n",
       "         newbalanceDest  isFraud  type_CASH_IN  type_CASH_OUT  type_DEBIT  \\\n",
       "2                  0.00        1             0              0           0   \n",
       "3                  0.00        1             0              1           0   \n",
       "15             51513.44        0             0              1           0   \n",
       "19                 0.00        0             0              0           0   \n",
       "24           2719172.89        0             0              0           0   \n",
       "...                 ...      ...           ...            ...         ...   \n",
       "6351186      1257759.90        1             0              1           0   \n",
       "6351188            0.00        1             0              0           0   \n",
       "6351189       162326.52        1             0              1           0   \n",
       "6351190            0.00        1             0              0           0   \n",
       "6351191      3102913.66        1             0              1           0   \n",
       "\n",
       "         type_PAYMENT  type_TRANSFER  \n",
       "2                   0              1  \n",
       "3                   0              0  \n",
       "15                  0              0  \n",
       "19                  0              1  \n",
       "24                  0              1  \n",
       "...               ...            ...  \n",
       "6351186             0              0  \n",
       "6351188             0              1  \n",
       "6351189             0              0  \n",
       "6351190             0              1  \n",
       "6351191             0              0  \n",
       "\n",
       "[2765186 rows x 12 columns]"
      ]
     },
     "execution_count": 19,
     "metadata": {},
     "output_type": "execute_result"
    }
   ],
   "source": [
    "updt_df_train_test = updt_df[(updt_df['type_CASH_OUT']==1) | (updt_df['type_TRANSFER'] == 1)]\n",
    "updt_df_train_test"
   ]
  },
  {
   "cell_type": "code",
   "execution_count": 58,
   "id": "2711cd12",
   "metadata": {},
   "outputs": [
    {
     "data": {
      "text/plain": [
       "step              0.279077\n",
       "amount            0.279077\n",
       "oldbalanceOrig    0.279077\n",
       "newbalanceOrig    0.279077\n",
       "oldbalanceDest    0.279077\n",
       "newbalanceDest    0.279077\n",
       "isFraud           0.279077\n",
       "type_CASH_IN      0.279077\n",
       "type_CASH_OUT     0.279077\n",
       "type_DEBIT        0.279077\n",
       "type_PAYMENT      0.279077\n",
       "type_TRANSFER     0.279077\n",
       "originError       0.279077\n",
       "destError         0.279077\n",
       "dtype: float64"
      ]
     },
     "execution_count": 58,
     "metadata": {},
     "output_type": "execute_result"
    }
   ],
   "source": [
    "updt_df_train_test[updt_df_train_test['isFraud'] == 1].count()/updt_df_train_test.count() * 100"
   ]
  },
  {
   "cell_type": "code",
   "execution_count": 20,
   "id": "81caac24",
   "metadata": {},
   "outputs": [
    {
     "name": "stderr",
     "output_type": "stream",
     "text": [
      "C:\\Users\\Shiyuh\\AppData\\Local\\Temp/ipykernel_29656/3028243359.py:1: SettingWithCopyWarning: \n",
      "A value is trying to be set on a copy of a slice from a DataFrame.\n",
      "Try using .loc[row_indexer,col_indexer] = value instead\n",
      "\n",
      "See the caveats in the documentation: https://pandas.pydata.org/pandas-docs/stable/user_guide/indexing.html#returning-a-view-versus-a-copy\n",
      "  updt_df_train_test['originError'] = updt_df_train_test['oldbalanceOrig']-(updt_df_train_test['amount']+updt_df_train_test['newbalanceOrig'])\n",
      "C:\\Users\\Shiyuh\\AppData\\Local\\Temp/ipykernel_29656/3028243359.py:2: SettingWithCopyWarning: \n",
      "A value is trying to be set on a copy of a slice from a DataFrame.\n",
      "Try using .loc[row_indexer,col_indexer] = value instead\n",
      "\n",
      "See the caveats in the documentation: https://pandas.pydata.org/pandas-docs/stable/user_guide/indexing.html#returning-a-view-versus-a-copy\n",
      "  updt_df_train_test['destError'] = updt_df_train_test['oldbalanceDest']-(updt_df_train_test['newbalanceDest']+updt_df_train_test['amount'])\n"
     ]
    }
   ],
   "source": [
    "updt_df_train_test['originError'] = updt_df_train_test['oldbalanceOrig']-(updt_df_train_test['amount']+updt_df_train_test['newbalanceOrig'])\n",
    "updt_df_train_test['destError'] = updt_df_train_test['oldbalanceDest']-(updt_df_train_test['newbalanceDest']+updt_df_train_test['amount'])"
   ]
  },
  {
   "cell_type": "code",
   "execution_count": 22,
   "id": "23c169a4",
   "metadata": {},
   "outputs": [
    {
     "data": {
      "text/html": [
       "<div>\n",
       "<style scoped>\n",
       "    .dataframe tbody tr th:only-of-type {\n",
       "        vertical-align: middle;\n",
       "    }\n",
       "\n",
       "    .dataframe tbody tr th {\n",
       "        vertical-align: top;\n",
       "    }\n",
       "\n",
       "    .dataframe thead th {\n",
       "        text-align: right;\n",
       "    }\n",
       "</style>\n",
       "<table border=\"1\" class=\"dataframe\">\n",
       "  <thead>\n",
       "    <tr style=\"text-align: right;\">\n",
       "      <th></th>\n",
       "      <th>step</th>\n",
       "      <th>amount</th>\n",
       "      <th>newbalanceOrig</th>\n",
       "      <th>newbalanceDest</th>\n",
       "      <th>originError</th>\n",
       "      <th>destError</th>\n",
       "    </tr>\n",
       "  </thead>\n",
       "  <tbody>\n",
       "    <tr>\n",
       "      <th>2</th>\n",
       "      <td>1</td>\n",
       "      <td>181.00</td>\n",
       "      <td>0.0</td>\n",
       "      <td>0.00</td>\n",
       "      <td>0.00</td>\n",
       "      <td>-181.00</td>\n",
       "    </tr>\n",
       "    <tr>\n",
       "      <th>3</th>\n",
       "      <td>1</td>\n",
       "      <td>181.00</td>\n",
       "      <td>0.0</td>\n",
       "      <td>0.00</td>\n",
       "      <td>0.00</td>\n",
       "      <td>21001.00</td>\n",
       "    </tr>\n",
       "    <tr>\n",
       "      <th>15</th>\n",
       "      <td>1</td>\n",
       "      <td>229133.94</td>\n",
       "      <td>0.0</td>\n",
       "      <td>51513.44</td>\n",
       "      <td>-213808.94</td>\n",
       "      <td>-275564.38</td>\n",
       "    </tr>\n",
       "    <tr>\n",
       "      <th>19</th>\n",
       "      <td>1</td>\n",
       "      <td>215310.30</td>\n",
       "      <td>0.0</td>\n",
       "      <td>0.00</td>\n",
       "      <td>-214605.30</td>\n",
       "      <td>-192885.30</td>\n",
       "    </tr>\n",
       "    <tr>\n",
       "      <th>24</th>\n",
       "      <td>1</td>\n",
       "      <td>311685.89</td>\n",
       "      <td>0.0</td>\n",
       "      <td>2719172.89</td>\n",
       "      <td>-300850.89</td>\n",
       "      <td>-3024591.78</td>\n",
       "    </tr>\n",
       "    <tr>\n",
       "      <th>...</th>\n",
       "      <td>...</td>\n",
       "      <td>...</td>\n",
       "      <td>...</td>\n",
       "      <td>...</td>\n",
       "      <td>...</td>\n",
       "      <td>...</td>\n",
       "    </tr>\n",
       "    <tr>\n",
       "      <th>6351186</th>\n",
       "      <td>699</td>\n",
       "      <td>62372.43</td>\n",
       "      <td>0.0</td>\n",
       "      <td>1257759.90</td>\n",
       "      <td>0.00</td>\n",
       "      <td>-124744.86</td>\n",
       "    </tr>\n",
       "    <tr>\n",
       "      <th>6351188</th>\n",
       "      <td>699</td>\n",
       "      <td>162326.52</td>\n",
       "      <td>0.0</td>\n",
       "      <td>0.00</td>\n",
       "      <td>0.00</td>\n",
       "      <td>-162326.52</td>\n",
       "    </tr>\n",
       "    <tr>\n",
       "      <th>6351189</th>\n",
       "      <td>699</td>\n",
       "      <td>162326.52</td>\n",
       "      <td>0.0</td>\n",
       "      <td>162326.52</td>\n",
       "      <td>0.00</td>\n",
       "      <td>-324653.04</td>\n",
       "    </tr>\n",
       "    <tr>\n",
       "      <th>6351190</th>\n",
       "      <td>699</td>\n",
       "      <td>2763398.31</td>\n",
       "      <td>0.0</td>\n",
       "      <td>0.00</td>\n",
       "      <td>0.00</td>\n",
       "      <td>-2763398.31</td>\n",
       "    </tr>\n",
       "    <tr>\n",
       "      <th>6351191</th>\n",
       "      <td>699</td>\n",
       "      <td>2763398.31</td>\n",
       "      <td>0.0</td>\n",
       "      <td>3102913.66</td>\n",
       "      <td>0.00</td>\n",
       "      <td>-5526796.62</td>\n",
       "    </tr>\n",
       "  </tbody>\n",
       "</table>\n",
       "<p>2765186 rows × 6 columns</p>\n",
       "</div>"
      ],
      "text/plain": [
       "         step      amount  newbalanceOrig  newbalanceDest  originError  \\\n",
       "2           1      181.00             0.0            0.00         0.00   \n",
       "3           1      181.00             0.0            0.00         0.00   \n",
       "15          1   229133.94             0.0        51513.44   -213808.94   \n",
       "19          1   215310.30             0.0            0.00   -214605.30   \n",
       "24          1   311685.89             0.0      2719172.89   -300850.89   \n",
       "...       ...         ...             ...             ...          ...   \n",
       "6351186   699    62372.43             0.0      1257759.90         0.00   \n",
       "6351188   699   162326.52             0.0            0.00         0.00   \n",
       "6351189   699   162326.52             0.0       162326.52         0.00   \n",
       "6351190   699  2763398.31             0.0            0.00         0.00   \n",
       "6351191   699  2763398.31             0.0      3102913.66         0.00   \n",
       "\n",
       "          destError  \n",
       "2           -181.00  \n",
       "3          21001.00  \n",
       "15       -275564.38  \n",
       "19       -192885.30  \n",
       "24      -3024591.78  \n",
       "...             ...  \n",
       "6351186  -124744.86  \n",
       "6351188  -162326.52  \n",
       "6351189  -324653.04  \n",
       "6351190 -2763398.31  \n",
       "6351191 -5526796.62  \n",
       "\n",
       "[2765186 rows x 6 columns]"
      ]
     },
     "execution_count": 22,
     "metadata": {},
     "output_type": "execute_result"
    }
   ],
   "source": [
    "y = updt_df_train_test.isFraud\n",
    "df_dependent = updt_df_train_test.drop(['oldbalanceOrig','oldbalanceDest','isFraud','type_CASH_IN','type_CASH_OUT','type_DEBIT','type_PAYMENT','type_TRANSFER'], axis =1)\n",
    "df_dependent"
   ]
  },
  {
   "cell_type": "code",
   "execution_count": 23,
   "id": "3f04de41",
   "metadata": {},
   "outputs": [
    {
     "data": {
      "text/plain": [
       "array([[-1.71182515, -0.35748584, -0.11431975, -0.43839253,  0.32670344,\n",
       "         0.33174564],\n",
       "       [-1.71182515, -0.35748584, -0.11431975, -0.43839253,  0.32670344,\n",
       "         0.34233534],\n",
       "       [-1.71182515, -0.09950687, -0.11431975, -0.42737977,  0.08264075,\n",
       "         0.19407079],\n",
       "       ...,\n",
       "       [ 3.26422929, -0.17478395, -0.11431975, -0.40368969,  0.32670344,\n",
       "         0.16952946],\n",
       "       [ 3.26422929,  2.75604462, -0.11431975, -0.43839253,  0.32670344,\n",
       "        -1.04969401],\n",
       "       [ 3.26422929,  2.75604462, -0.11431975,  0.22496134,  0.32670344,\n",
       "        -2.43122414]])"
      ]
     },
     "execution_count": 23,
     "metadata": {},
     "output_type": "execute_result"
    }
   ],
   "source": [
    "#normalize values\n",
    "from sklearn.preprocessing import StandardScaler\n",
    "scaler = StandardScaler()\n",
    "scaler.fit(df_dependent)\n",
    "scaled_data = scaler.transform(df_dependent)\n",
    "scaled_data"
   ]
  },
  {
   "cell_type": "code",
   "execution_count": 24,
   "id": "1c2d67bb",
   "metadata": {},
   "outputs": [],
   "source": [
    "pickle.dump(scaler, open('scaler.pkl','wb'))"
   ]
  },
  {
   "cell_type": "code",
   "execution_count": 25,
   "id": "f4f1a60d",
   "metadata": {},
   "outputs": [],
   "source": [
    "from sklearn.model_selection import train_test_split\n",
    "X_train, X_test, y_train, y_test = train_test_split(scaled_data, y)"
   ]
  },
  {
   "cell_type": "markdown",
   "id": "26005e5f",
   "metadata": {},
   "source": [
    "### Logistic Regression"
   ]
  },
  {
   "cell_type": "code",
   "execution_count": 26,
   "id": "002234bf",
   "metadata": {},
   "outputs": [],
   "source": [
    "from sklearn.linear_model import LogisticRegression \n",
    "lr = LogisticRegression(solver='liblinear')"
   ]
  },
  {
   "cell_type": "code",
   "execution_count": 27,
   "id": "47f68ae9",
   "metadata": {},
   "outputs": [
    {
     "data": {
      "text/plain": [
       "LogisticRegression(solver='liblinear')"
      ]
     },
     "execution_count": 27,
     "metadata": {},
     "output_type": "execute_result"
    }
   ],
   "source": [
    "lr.fit(X_train, y_train)"
   ]
  },
  {
   "cell_type": "code",
   "execution_count": 28,
   "id": "d0e59e9a",
   "metadata": {},
   "outputs": [],
   "source": [
    "pred_lr = lr.predict(X_test)"
   ]
  },
  {
   "cell_type": "code",
   "execution_count": 29,
   "id": "8c0daba1",
   "metadata": {},
   "outputs": [
    {
     "name": "stdout",
     "output_type": "stream",
     "text": [
      "accuracy 0.9983972156685187\n",
      "precision 0.9255765199161425\n",
      "f1 score 0.6144745998608211\n",
      "recall 0.45989583333333334\n",
      "              precision    recall  f1-score   support\n",
      "\n",
      "           0       1.00      1.00      1.00    689377\n",
      "           1       0.93      0.46      0.61      1920\n",
      "\n",
      "    accuracy                           1.00    691297\n",
      "   macro avg       0.96      0.73      0.81    691297\n",
      "weighted avg       1.00      1.00      1.00    691297\n",
      "\n"
     ]
    }
   ],
   "source": [
    "print(\"accuracy\",metrics.accuracy_score(y_test,y_pred=pred_lr))\n",
    "print(\"precision\",metrics.precision_score(y_test,y_pred = pred_lr))\n",
    "print(\"f1 score\",metrics.f1_score(y_test,y_pred = pred_lr))\n",
    "print(\"recall\",metrics.recall_score(y_test, y_pred = pred_lr))\n",
    "print(metrics.classification_report(y_test, y_pred = pred_lr))"
   ]
  },
  {
   "cell_type": "code",
   "execution_count": 30,
   "id": "84ebe489",
   "metadata": {},
   "outputs": [],
   "source": [
    "#save model\n",
    "filename = 'lr.pkl'\n",
    "pickle.dump(lr, open(filename, 'wb'))"
   ]
  },
  {
   "cell_type": "markdown",
   "id": "657daf5b",
   "metadata": {},
   "source": [
    "### Support Vector Machine"
   ]
  },
  {
   "cell_type": "code",
   "execution_count": 31,
   "id": "95ed3594",
   "metadata": {},
   "outputs": [
    {
     "data": {
      "text/plain": [
       "SVC()"
      ]
     },
     "execution_count": 31,
     "metadata": {},
     "output_type": "execute_result"
    }
   ],
   "source": [
    "from sklearn.svm import SVC\n",
    "svc = SVC()\n",
    "svc.fit(X_train, y_train)"
   ]
  },
  {
   "cell_type": "code",
   "execution_count": 32,
   "id": "d87ebb09",
   "metadata": {},
   "outputs": [],
   "source": [
    "pred_svm = svc.predict(X_test)"
   ]
  },
  {
   "cell_type": "code",
   "execution_count": 33,
   "id": "a71103ef",
   "metadata": {
    "scrolled": true
   },
   "outputs": [
    {
     "name": "stdout",
     "output_type": "stream",
     "text": [
      "accuracy 0.9985028142751957\n",
      "precision 0.9804560260586319\n",
      "f1 score 0.6356916578669483\n",
      "recall 0.4703125\n",
      "              precision    recall  f1-score   support\n",
      "\n",
      "           0       1.00      1.00      1.00    689377\n",
      "           1       0.98      0.47      0.64      1920\n",
      "\n",
      "    accuracy                           1.00    691297\n",
      "   macro avg       0.99      0.74      0.82    691297\n",
      "weighted avg       1.00      1.00      1.00    691297\n",
      "\n"
     ]
    }
   ],
   "source": [
    "print(\"accuracy\",metrics.accuracy_score(y_test,y_pred=pred_svm))\n",
    "print(\"precision\",metrics.precision_score(y_test,y_pred = pred_svm))\n",
    "print(\"f1 score\",metrics.f1_score(y_test,y_pred = pred_svm))\n",
    "print(\"recall\",metrics.recall_score(y_test, y_pred = pred_svm))\n",
    "print(metrics.classification_report(y_test, y_pred = pred_svm))"
   ]
  },
  {
   "cell_type": "code",
   "execution_count": 34,
   "id": "f6d33c70",
   "metadata": {},
   "outputs": [],
   "source": [
    "#save model\n",
    "filename = 'svm.pkl'\n",
    "pickle.dump(svc, open(filename, 'wb'))"
   ]
  },
  {
   "cell_type": "markdown",
   "id": "769da231",
   "metadata": {},
   "source": [
    "### Decision Tree"
   ]
  },
  {
   "cell_type": "code",
   "execution_count": 35,
   "id": "72a66853",
   "metadata": {},
   "outputs": [
    {
     "data": {
      "text/plain": [
       "DecisionTreeClassifier()"
      ]
     },
     "execution_count": 35,
     "metadata": {},
     "output_type": "execute_result"
    }
   ],
   "source": [
    "from sklearn.tree import DecisionTreeClassifier\n",
    "from sklearn import tree\n",
    "dtc = DecisionTreeClassifier()\n",
    "dtc.fit(X_train,y_train)"
   ]
  },
  {
   "cell_type": "code",
   "execution_count": 36,
   "id": "e98c8474",
   "metadata": {},
   "outputs": [],
   "source": [
    "pred_dtc = dtc.predict(X_test)"
   ]
  },
  {
   "cell_type": "code",
   "execution_count": 37,
   "id": "671d375b",
   "metadata": {},
   "outputs": [
    {
     "name": "stdout",
     "output_type": "stream",
     "text": [
      "accuracy 0.9999768550999064\n",
      "precision 0.9958333333333333\n",
      "f1 score 0.9958333333333333\n",
      "recall 0.9958333333333333\n",
      "              precision    recall  f1-score   support\n",
      "\n",
      "           0       1.00      1.00      1.00    689377\n",
      "           1       1.00      1.00      1.00      1920\n",
      "\n",
      "    accuracy                           1.00    691297\n",
      "   macro avg       1.00      1.00      1.00    691297\n",
      "weighted avg       1.00      1.00      1.00    691297\n",
      "\n"
     ]
    }
   ],
   "source": [
    "print(\"accuracy\",metrics.accuracy_score(y_test,y_pred=pred_dtc))\n",
    "print(\"precision\",metrics.precision_score(y_test,y_pred = pred_dtc))\n",
    "print(\"f1 score\",metrics.f1_score(y_test,y_pred = pred_dtc))\n",
    "print(\"recall\",metrics.recall_score(y_test, y_pred = pred_dtc))\n",
    "print(metrics.classification_report(y_test, y_pred = pred_dtc))"
   ]
  },
  {
   "cell_type": "code",
   "execution_count": 38,
   "id": "2bc606f5",
   "metadata": {},
   "outputs": [],
   "source": [
    "#save model\n",
    "filename = 'dtc.pkl'\n",
    "pickle.dump(dtc, open(filename, 'wb'))"
   ]
  },
  {
   "cell_type": "markdown",
   "id": "a5051eb0",
   "metadata": {},
   "source": [
    "### Random Forest "
   ]
  },
  {
   "cell_type": "code",
   "execution_count": 39,
   "id": "beb2fda7",
   "metadata": {},
   "outputs": [],
   "source": [
    "from sklearn.ensemble import RandomForestClassifier\n",
    "rf = RandomForestClassifier(n_estimators = 200)"
   ]
  },
  {
   "cell_type": "code",
   "execution_count": 40,
   "id": "7d85e1d7",
   "metadata": {},
   "outputs": [
    {
     "data": {
      "text/plain": [
       "RandomForestClassifier(n_estimators=200)"
      ]
     },
     "execution_count": 40,
     "metadata": {},
     "output_type": "execute_result"
    }
   ],
   "source": [
    "rf.fit(X_train, y_train)"
   ]
  },
  {
   "cell_type": "code",
   "execution_count": 41,
   "id": "94f8824f",
   "metadata": {},
   "outputs": [],
   "source": [
    "pred_rf = rf.predict(X_test)"
   ]
  },
  {
   "cell_type": "code",
   "execution_count": 42,
   "id": "57f93037",
   "metadata": {},
   "outputs": [
    {
     "name": "stdout",
     "output_type": "stream",
     "text": [
      "accuracy 0.9999884275499532\n",
      "precision 1.0\n",
      "f1 score 0.9979123173277662\n",
      "recall 0.9958333333333333\n",
      "              precision    recall  f1-score   support\n",
      "\n",
      "           0       1.00      1.00      1.00    689377\n",
      "           1       1.00      1.00      1.00      1920\n",
      "\n",
      "    accuracy                           1.00    691297\n",
      "   macro avg       1.00      1.00      1.00    691297\n",
      "weighted avg       1.00      1.00      1.00    691297\n",
      "\n"
     ]
    }
   ],
   "source": [
    "print(\"accuracy\",metrics.accuracy_score(y_test,y_pred=pred_rf))\n",
    "print(\"precision\",metrics.precision_score(y_test,y_pred = pred_rf))\n",
    "print(\"f1 score\",metrics.f1_score(y_test,y_pred = pred_rf))\n",
    "print(\"recall\",metrics.recall_score(y_test, y_pred = pred_rf))\n",
    "print(metrics.classification_report(y_test, y_pred = pred_rf))"
   ]
  },
  {
   "cell_type": "code",
   "execution_count": 43,
   "id": "f0b69cf3",
   "metadata": {},
   "outputs": [],
   "source": [
    "#save model\n",
    "filename = 'rf.pkl'\n",
    "pickle.dump(rf, open(filename, 'wb'))"
   ]
  },
  {
   "cell_type": "markdown",
   "id": "980faa5c",
   "metadata": {},
   "source": [
    "### Naive Bayes"
   ]
  },
  {
   "cell_type": "code",
   "execution_count": 48,
   "id": "828ca46a",
   "metadata": {},
   "outputs": [
    {
     "data": {
      "text/plain": [
       "GaussianNB()"
      ]
     },
     "execution_count": 48,
     "metadata": {},
     "output_type": "execute_result"
    }
   ],
   "source": [
    "from sklearn.naive_bayes import GaussianNB\n",
    "gnb = GaussianNB()\n",
    "gnb.fit(X_train, y_train)"
   ]
  },
  {
   "cell_type": "code",
   "execution_count": 49,
   "id": "3c6c4bd3",
   "metadata": {},
   "outputs": [],
   "source": [
    "y_pred_gnb = gnb.predict(X_test)"
   ]
  },
  {
   "cell_type": "code",
   "execution_count": 50,
   "id": "dc9b878d",
   "metadata": {},
   "outputs": [
    {
     "name": "stdout",
     "output_type": "stream",
     "text": [
      "accuracy 0.9907883297627503\n",
      "precision 0.046677537708927845\n",
      "f1 score 0.06709639613243482\n",
      "recall 0.11927083333333334\n",
      "              precision    recall  f1-score   support\n",
      "\n",
      "           0       1.00      0.99      1.00    689377\n",
      "           1       0.05      0.12      0.07      1920\n",
      "\n",
      "    accuracy                           0.99    691297\n",
      "   macro avg       0.52      0.56      0.53    691297\n",
      "weighted avg       0.99      0.99      0.99    691297\n",
      "\n"
     ]
    }
   ],
   "source": [
    "print(\"accuracy\",metrics.accuracy_score(y_test,y_pred=y_pred_gnb))\n",
    "print(\"precision\",metrics.precision_score(y_test,y_pred = y_pred_gnb))\n",
    "print(\"f1 score\",metrics.f1_score(y_test,y_pred = y_pred_gnb))\n",
    "print(\"recall\",metrics.recall_score(y_test, y_pred = y_pred_gnb))\n",
    "print(metrics.classification_report(y_test, y_pred = y_pred_gnb))"
   ]
  },
  {
   "cell_type": "code",
   "execution_count": 54,
   "id": "bd2c02f3",
   "metadata": {},
   "outputs": [],
   "source": [
    "#save model\n",
    "filename = 'gnb.pkl'\n",
    "pickle.dump(gnb, open(filename, 'wb'))"
   ]
  },
  {
   "cell_type": "code",
   "execution_count": null,
   "id": "91075565",
   "metadata": {},
   "outputs": [],
   "source": []
  }
 ],
 "metadata": {
  "kernelspec": {
   "display_name": "Python 3 (ipykernel)",
   "language": "python",
   "name": "python3"
  },
  "language_info": {
   "codemirror_mode": {
    "name": "ipython",
    "version": 3
   },
   "file_extension": ".py",
   "mimetype": "text/x-python",
   "name": "python",
   "nbconvert_exporter": "python",
   "pygments_lexer": "ipython3",
   "version": "3.9.7"
  }
 },
 "nbformat": 4,
 "nbformat_minor": 5
}
